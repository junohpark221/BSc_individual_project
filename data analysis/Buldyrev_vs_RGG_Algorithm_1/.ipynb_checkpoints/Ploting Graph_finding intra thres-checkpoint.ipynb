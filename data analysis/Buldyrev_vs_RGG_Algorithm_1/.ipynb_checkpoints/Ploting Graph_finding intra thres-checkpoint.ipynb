{
 "cells": [
  {
   "cell_type": "code",
   "execution_count": 1,
   "metadata": {},
   "outputs": [],
   "source": [
    "import pandas as pd\n",
    "import matplotlib.pyplot as plt\n",
    "import numpy as np\n",
    "import statistics"
   ]
  },
  {
   "cell_type": "code",
   "execution_count": 2,
   "metadata": {},
   "outputs": [],
   "source": [
    "rep5_04_002_data = pd.read_csv('proc_rep5_04_002.csv')\n",
    "\n",
    "del rep5_04_002_data['Unnamed: 0']"
   ]
  },
  {
   "cell_type": "code",
   "execution_count": 4,
   "metadata": {},
   "outputs": [
    {
     "data": {
      "text/html": [
       "<div>\n",
       "<style scoped>\n",
       "    .dataframe tbody tr th:only-of-type {\n",
       "        vertical-align: middle;\n",
       "    }\n",
       "\n",
       "    .dataframe tbody tr th {\n",
       "        vertical-align: top;\n",
       "    }\n",
       "\n",
       "    .dataframe thead th {\n",
       "        text-align: right;\n",
       "    }\n",
       "</style>\n",
       "<table border=\"1\" class=\"dataframe\">\n",
       "  <thead>\n",
       "    <tr style=\"text-align: right;\">\n",
       "      <th></th>\n",
       "      <th>rep</th>\n",
       "      <th>intra_thres</th>\n",
       "      <th>init_intra_edge</th>\n",
       "      <th>init_supp_edge</th>\n",
       "      <th>fin_intra_edge</th>\n",
       "      <th>fin_supp_edge</th>\n",
       "      <th>alive_nodes</th>\n",
       "      <th>tot_isol_node</th>\n",
       "      <th>tot_unsupp_node</th>\n",
       "      <th>cas_steps</th>\n",
       "      <th>...</th>\n",
       "      <th>step32_isol</th>\n",
       "      <th>step32_unsupp</th>\n",
       "      <th>step33_isol</th>\n",
       "      <th>step33_unsupp</th>\n",
       "      <th>step34_isol</th>\n",
       "      <th>step34_unsupp</th>\n",
       "      <th>step35_isol</th>\n",
       "      <th>step35_unsupp</th>\n",
       "      <th>step36_isol</th>\n",
       "      <th>step36_unsupp</th>\n",
       "    </tr>\n",
       "  </thead>\n",
       "  <tbody>\n",
       "    <tr>\n",
       "      <th>0</th>\n",
       "      <td>1</td>\n",
       "      <td>0.040</td>\n",
       "      <td>612.0</td>\n",
       "      <td>500.0</td>\n",
       "      <td>0.0</td>\n",
       "      <td>0.0</td>\n",
       "      <td>0</td>\n",
       "      <td>846</td>\n",
       "      <td>54</td>\n",
       "      <td>3</td>\n",
       "      <td>...</td>\n",
       "      <td>0</td>\n",
       "      <td>0</td>\n",
       "      <td>0</td>\n",
       "      <td>0</td>\n",
       "      <td>0</td>\n",
       "      <td>0</td>\n",
       "      <td>0</td>\n",
       "      <td>0</td>\n",
       "      <td>0</td>\n",
       "      <td>0</td>\n",
       "    </tr>\n",
       "    <tr>\n",
       "      <th>1</th>\n",
       "      <td>1</td>\n",
       "      <td>0.040</td>\n",
       "      <td>612.0</td>\n",
       "      <td>500.0</td>\n",
       "      <td>0.0</td>\n",
       "      <td>0.0</td>\n",
       "      <td>0</td>\n",
       "      <td>854</td>\n",
       "      <td>46</td>\n",
       "      <td>5</td>\n",
       "      <td>...</td>\n",
       "      <td>0</td>\n",
       "      <td>0</td>\n",
       "      <td>0</td>\n",
       "      <td>0</td>\n",
       "      <td>0</td>\n",
       "      <td>0</td>\n",
       "      <td>0</td>\n",
       "      <td>0</td>\n",
       "      <td>0</td>\n",
       "      <td>0</td>\n",
       "    </tr>\n",
       "    <tr>\n",
       "      <th>2</th>\n",
       "      <td>1</td>\n",
       "      <td>0.040</td>\n",
       "      <td>612.0</td>\n",
       "      <td>500.0</td>\n",
       "      <td>0.0</td>\n",
       "      <td>0.0</td>\n",
       "      <td>0</td>\n",
       "      <td>480</td>\n",
       "      <td>420</td>\n",
       "      <td>12</td>\n",
       "      <td>...</td>\n",
       "      <td>0</td>\n",
       "      <td>0</td>\n",
       "      <td>0</td>\n",
       "      <td>0</td>\n",
       "      <td>0</td>\n",
       "      <td>0</td>\n",
       "      <td>0</td>\n",
       "      <td>0</td>\n",
       "      <td>0</td>\n",
       "      <td>0</td>\n",
       "    </tr>\n",
       "    <tr>\n",
       "      <th>3</th>\n",
       "      <td>1</td>\n",
       "      <td>0.040</td>\n",
       "      <td>612.0</td>\n",
       "      <td>500.0</td>\n",
       "      <td>0.0</td>\n",
       "      <td>0.0</td>\n",
       "      <td>0</td>\n",
       "      <td>520</td>\n",
       "      <td>380</td>\n",
       "      <td>11</td>\n",
       "      <td>...</td>\n",
       "      <td>0</td>\n",
       "      <td>0</td>\n",
       "      <td>0</td>\n",
       "      <td>0</td>\n",
       "      <td>0</td>\n",
       "      <td>0</td>\n",
       "      <td>0</td>\n",
       "      <td>0</td>\n",
       "      <td>0</td>\n",
       "      <td>0</td>\n",
       "    </tr>\n",
       "    <tr>\n",
       "      <th>4</th>\n",
       "      <td>2</td>\n",
       "      <td>0.040</td>\n",
       "      <td>624.0</td>\n",
       "      <td>500.0</td>\n",
       "      <td>1.0</td>\n",
       "      <td>3.0</td>\n",
       "      <td>4</td>\n",
       "      <td>855</td>\n",
       "      <td>41</td>\n",
       "      <td>4</td>\n",
       "      <td>...</td>\n",
       "      <td>0</td>\n",
       "      <td>0</td>\n",
       "      <td>0</td>\n",
       "      <td>0</td>\n",
       "      <td>0</td>\n",
       "      <td>0</td>\n",
       "      <td>0</td>\n",
       "      <td>0</td>\n",
       "      <td>0</td>\n",
       "      <td>0</td>\n",
       "    </tr>\n",
       "    <tr>\n",
       "      <th>...</th>\n",
       "      <td>...</td>\n",
       "      <td>...</td>\n",
       "      <td>...</td>\n",
       "      <td>...</td>\n",
       "      <td>...</td>\n",
       "      <td>...</td>\n",
       "      <td>...</td>\n",
       "      <td>...</td>\n",
       "      <td>...</td>\n",
       "      <td>...</td>\n",
       "      <td>...</td>\n",
       "      <td>...</td>\n",
       "      <td>...</td>\n",
       "      <td>...</td>\n",
       "      <td>...</td>\n",
       "      <td>...</td>\n",
       "      <td>...</td>\n",
       "      <td>...</td>\n",
       "      <td>...</td>\n",
       "      <td>...</td>\n",
       "      <td>...</td>\n",
       "    </tr>\n",
       "    <tr>\n",
       "      <th>395</th>\n",
       "      <td>99</td>\n",
       "      <td>0.078</td>\n",
       "      <td>2239.5</td>\n",
       "      <td>500.0</td>\n",
       "      <td>1468.5</td>\n",
       "      <td>1870.5</td>\n",
       "      <td>804</td>\n",
       "      <td>2</td>\n",
       "      <td>94</td>\n",
       "      <td>3</td>\n",
       "      <td>...</td>\n",
       "      <td>0</td>\n",
       "      <td>0</td>\n",
       "      <td>0</td>\n",
       "      <td>0</td>\n",
       "      <td>0</td>\n",
       "      <td>0</td>\n",
       "      <td>0</td>\n",
       "      <td>0</td>\n",
       "      <td>0</td>\n",
       "      <td>0</td>\n",
       "    </tr>\n",
       "    <tr>\n",
       "      <th>396</th>\n",
       "      <td>100</td>\n",
       "      <td>0.078</td>\n",
       "      <td>2338.0</td>\n",
       "      <td>500.0</td>\n",
       "      <td>1580.5</td>\n",
       "      <td>1977.5</td>\n",
       "      <td>794</td>\n",
       "      <td>6</td>\n",
       "      <td>100</td>\n",
       "      <td>4</td>\n",
       "      <td>...</td>\n",
       "      <td>0</td>\n",
       "      <td>0</td>\n",
       "      <td>0</td>\n",
       "      <td>0</td>\n",
       "      <td>0</td>\n",
       "      <td>0</td>\n",
       "      <td>0</td>\n",
       "      <td>0</td>\n",
       "      <td>0</td>\n",
       "      <td>0</td>\n",
       "    </tr>\n",
       "    <tr>\n",
       "      <th>397</th>\n",
       "      <td>100</td>\n",
       "      <td>0.078</td>\n",
       "      <td>2338.0</td>\n",
       "      <td>500.0</td>\n",
       "      <td>1603.5</td>\n",
       "      <td>2003.5</td>\n",
       "      <td>800</td>\n",
       "      <td>6</td>\n",
       "      <td>94</td>\n",
       "      <td>4</td>\n",
       "      <td>...</td>\n",
       "      <td>0</td>\n",
       "      <td>0</td>\n",
       "      <td>0</td>\n",
       "      <td>0</td>\n",
       "      <td>0</td>\n",
       "      <td>0</td>\n",
       "      <td>0</td>\n",
       "      <td>0</td>\n",
       "      <td>0</td>\n",
       "      <td>0</td>\n",
       "    </tr>\n",
       "    <tr>\n",
       "      <th>398</th>\n",
       "      <td>100</td>\n",
       "      <td>0.078</td>\n",
       "      <td>2338.0</td>\n",
       "      <td>500.0</td>\n",
       "      <td>1506.5</td>\n",
       "      <td>1906.5</td>\n",
       "      <td>800</td>\n",
       "      <td>1</td>\n",
       "      <td>99</td>\n",
       "      <td>3</td>\n",
       "      <td>...</td>\n",
       "      <td>0</td>\n",
       "      <td>0</td>\n",
       "      <td>0</td>\n",
       "      <td>0</td>\n",
       "      <td>0</td>\n",
       "      <td>0</td>\n",
       "      <td>0</td>\n",
       "      <td>0</td>\n",
       "      <td>0</td>\n",
       "      <td>0</td>\n",
       "    </tr>\n",
       "    <tr>\n",
       "      <th>399</th>\n",
       "      <td>100</td>\n",
       "      <td>0.078</td>\n",
       "      <td>2338.0</td>\n",
       "      <td>500.0</td>\n",
       "      <td>1556.0</td>\n",
       "      <td>1962.0</td>\n",
       "      <td>812</td>\n",
       "      <td>1</td>\n",
       "      <td>87</td>\n",
       "      <td>2</td>\n",
       "      <td>...</td>\n",
       "      <td>0</td>\n",
       "      <td>0</td>\n",
       "      <td>0</td>\n",
       "      <td>0</td>\n",
       "      <td>0</td>\n",
       "      <td>0</td>\n",
       "      <td>0</td>\n",
       "      <td>0</td>\n",
       "      <td>0</td>\n",
       "      <td>0</td>\n",
       "    </tr>\n",
       "  </tbody>\n",
       "</table>\n",
       "<p>400 rows × 93 columns</p>\n",
       "</div>"
      ],
      "text/plain": [
       "     rep  intra_thres  init_intra_edge  init_supp_edge  fin_intra_edge  \\\n",
       "0      1        0.040            612.0           500.0             0.0   \n",
       "1      1        0.040            612.0           500.0             0.0   \n",
       "2      1        0.040            612.0           500.0             0.0   \n",
       "3      1        0.040            612.0           500.0             0.0   \n",
       "4      2        0.040            624.0           500.0             1.0   \n",
       "..   ...          ...              ...             ...             ...   \n",
       "395   99        0.078           2239.5           500.0          1468.5   \n",
       "396  100        0.078           2338.0           500.0          1580.5   \n",
       "397  100        0.078           2338.0           500.0          1603.5   \n",
       "398  100        0.078           2338.0           500.0          1506.5   \n",
       "399  100        0.078           2338.0           500.0          1556.0   \n",
       "\n",
       "     fin_supp_edge  alive_nodes  tot_isol_node  tot_unsupp_node  cas_steps  \\\n",
       "0              0.0            0            846               54          3   \n",
       "1              0.0            0            854               46          5   \n",
       "2              0.0            0            480              420         12   \n",
       "3              0.0            0            520              380         11   \n",
       "4              3.0            4            855               41          4   \n",
       "..             ...          ...            ...              ...        ...   \n",
       "395         1870.5          804              2               94          3   \n",
       "396         1977.5          794              6              100          4   \n",
       "397         2003.5          800              6               94          4   \n",
       "398         1906.5          800              1               99          3   \n",
       "399         1962.0          812              1               87          2   \n",
       "\n",
       "     ...  step32_isol  step32_unsupp  step33_isol  step33_unsupp  step34_isol  \\\n",
       "0    ...            0              0            0              0            0   \n",
       "1    ...            0              0            0              0            0   \n",
       "2    ...            0              0            0              0            0   \n",
       "3    ...            0              0            0              0            0   \n",
       "4    ...            0              0            0              0            0   \n",
       "..   ...          ...            ...          ...            ...          ...   \n",
       "395  ...            0              0            0              0            0   \n",
       "396  ...            0              0            0              0            0   \n",
       "397  ...            0              0            0              0            0   \n",
       "398  ...            0              0            0              0            0   \n",
       "399  ...            0              0            0              0            0   \n",
       "\n",
       "     step34_unsupp  step35_isol  step35_unsupp  step36_isol  step36_unsupp  \n",
       "0                0            0              0            0              0  \n",
       "1                0            0              0            0              0  \n",
       "2                0            0              0            0              0  \n",
       "3                0            0              0            0              0  \n",
       "4                0            0              0            0              0  \n",
       "..             ...          ...            ...          ...            ...  \n",
       "395              0            0              0            0              0  \n",
       "396              0            0              0            0              0  \n",
       "397              0            0              0            0              0  \n",
       "398              0            0              0            0              0  \n",
       "399              0            0              0            0              0  \n",
       "\n",
       "[400 rows x 93 columns]"
      ]
     },
     "execution_count": 4,
     "metadata": {},
     "output_type": "execute_result"
    }
   ],
   "source": [
    "rep5_04_002_data"
   ]
  },
  {
   "cell_type": "code",
   "execution_count": 6,
   "metadata": {},
   "outputs": [],
   "source": [
    "rgg_rgg_data = rep5_04_002_data.copy()\n",
    "rgg_rand_data = rep5_04_002_data.copy()\n",
    "rand_rgg_data = rep5_04_002_data.copy()\n",
    "rand_rand_data = rep5_04_002_data.copy()\n",
    "\n",
    "rgg_rgg_drop_list = []\n",
    "rgg_rand_drop_list = []\n",
    "rand_rgg_drop_list = []\n",
    "rand_rand_drop_list = []\n",
    "\n",
    "for i in range(400):\n",
    "    if i % 4 == 0:\n",
    "        rgg_rand_drop_list.append(i)\n",
    "        rand_rgg_drop_list.append(i)\n",
    "        rand_rand_drop_list.append(i)\n",
    "    elif i % 4 == 1:\n",
    "        rgg_rgg_drop_list.append(i)\n",
    "        rand_rgg_drop_list.append(i)\n",
    "        rand_rand_drop_list.append(i)\n",
    "    elif i % 4 == 2:\n",
    "        rgg_rgg_drop_list.append(i)\n",
    "        rgg_rand_drop_list.append(i)\n",
    "        rand_rand_drop_list.append(i)\n",
    "    elif i % 4 == 3:\n",
    "        rgg_rgg_drop_list.append(i)\n",
    "        rgg_rand_drop_list.append(i)\n",
    "        rand_rgg_drop_list.append(i)       \n",
    "\n",
    "rgg_rgg_data = rgg_rgg_data.drop(rgg_rgg_drop_list)\n",
    "rgg_rand_data = rgg_rand_data.drop(rgg_rand_drop_list)\n",
    "rand_rgg_data = rand_rgg_data.drop(rand_rgg_drop_list)\n",
    "rand_rand_data = rand_rand_data.drop(rand_rand_drop_list)\n",
    "\n",
    "rgg_rgg_data = rgg_rgg_data.reset_index(drop=True)\n",
    "rgg_rand_data = rgg_rand_data.reset_index(drop=True)\n",
    "rand_rgg_data = rand_rgg_data.reset_index(drop=True)\n",
    "rand_rand_data = rand_rand_data.reset_index(drop=True)"
   ]
  },
  {
   "cell_type": "code",
   "execution_count": 8,
   "metadata": {},
   "outputs": [
    {
     "data": {
      "text/html": [
       "<div>\n",
       "<style scoped>\n",
       "    .dataframe tbody tr th:only-of-type {\n",
       "        vertical-align: middle;\n",
       "    }\n",
       "\n",
       "    .dataframe tbody tr th {\n",
       "        vertical-align: top;\n",
       "    }\n",
       "\n",
       "    .dataframe thead th {\n",
       "        text-align: right;\n",
       "    }\n",
       "</style>\n",
       "<table border=\"1\" class=\"dataframe\">\n",
       "  <thead>\n",
       "    <tr style=\"text-align: right;\">\n",
       "      <th></th>\n",
       "      <th>rep</th>\n",
       "      <th>intra_thres</th>\n",
       "      <th>init_intra_edge</th>\n",
       "      <th>init_supp_edge</th>\n",
       "      <th>fin_intra_edge</th>\n",
       "      <th>fin_supp_edge</th>\n",
       "      <th>alive_nodes</th>\n",
       "      <th>tot_isol_node</th>\n",
       "      <th>tot_unsupp_node</th>\n",
       "      <th>cas_steps</th>\n",
       "      <th>...</th>\n",
       "      <th>step32_isol</th>\n",
       "      <th>step32_unsupp</th>\n",
       "      <th>step33_isol</th>\n",
       "      <th>step33_unsupp</th>\n",
       "      <th>step34_isol</th>\n",
       "      <th>step34_unsupp</th>\n",
       "      <th>step35_isol</th>\n",
       "      <th>step35_unsupp</th>\n",
       "      <th>step36_isol</th>\n",
       "      <th>step36_unsupp</th>\n",
       "    </tr>\n",
       "  </thead>\n",
       "  <tbody>\n",
       "    <tr>\n",
       "      <th>0</th>\n",
       "      <td>1</td>\n",
       "      <td>0.040</td>\n",
       "      <td>612.0</td>\n",
       "      <td>500.0</td>\n",
       "      <td>0.0</td>\n",
       "      <td>0.0</td>\n",
       "      <td>0</td>\n",
       "      <td>846</td>\n",
       "      <td>54</td>\n",
       "      <td>3</td>\n",
       "      <td>...</td>\n",
       "      <td>0</td>\n",
       "      <td>0</td>\n",
       "      <td>0</td>\n",
       "      <td>0</td>\n",
       "      <td>0</td>\n",
       "      <td>0</td>\n",
       "      <td>0</td>\n",
       "      <td>0</td>\n",
       "      <td>0</td>\n",
       "      <td>0</td>\n",
       "    </tr>\n",
       "    <tr>\n",
       "      <th>1</th>\n",
       "      <td>2</td>\n",
       "      <td>0.040</td>\n",
       "      <td>624.0</td>\n",
       "      <td>500.0</td>\n",
       "      <td>1.0</td>\n",
       "      <td>3.0</td>\n",
       "      <td>4</td>\n",
       "      <td>855</td>\n",
       "      <td>41</td>\n",
       "      <td>4</td>\n",
       "      <td>...</td>\n",
       "      <td>0</td>\n",
       "      <td>0</td>\n",
       "      <td>0</td>\n",
       "      <td>0</td>\n",
       "      <td>0</td>\n",
       "      <td>0</td>\n",
       "      <td>0</td>\n",
       "      <td>0</td>\n",
       "      <td>0</td>\n",
       "      <td>0</td>\n",
       "    </tr>\n",
       "    <tr>\n",
       "      <th>2</th>\n",
       "      <td>3</td>\n",
       "      <td>0.040</td>\n",
       "      <td>594.5</td>\n",
       "      <td>500.0</td>\n",
       "      <td>0.0</td>\n",
       "      <td>0.0</td>\n",
       "      <td>0</td>\n",
       "      <td>858</td>\n",
       "      <td>42</td>\n",
       "      <td>4</td>\n",
       "      <td>...</td>\n",
       "      <td>0</td>\n",
       "      <td>0</td>\n",
       "      <td>0</td>\n",
       "      <td>0</td>\n",
       "      <td>0</td>\n",
       "      <td>0</td>\n",
       "      <td>0</td>\n",
       "      <td>0</td>\n",
       "      <td>0</td>\n",
       "      <td>0</td>\n",
       "    </tr>\n",
       "    <tr>\n",
       "      <th>3</th>\n",
       "      <td>4</td>\n",
       "      <td>0.040</td>\n",
       "      <td>577.5</td>\n",
       "      <td>500.0</td>\n",
       "      <td>0.0</td>\n",
       "      <td>0.0</td>\n",
       "      <td>0</td>\n",
       "      <td>852</td>\n",
       "      <td>48</td>\n",
       "      <td>3</td>\n",
       "      <td>...</td>\n",
       "      <td>0</td>\n",
       "      <td>0</td>\n",
       "      <td>0</td>\n",
       "      <td>0</td>\n",
       "      <td>0</td>\n",
       "      <td>0</td>\n",
       "      <td>0</td>\n",
       "      <td>0</td>\n",
       "      <td>0</td>\n",
       "      <td>0</td>\n",
       "    </tr>\n",
       "    <tr>\n",
       "      <th>4</th>\n",
       "      <td>5</td>\n",
       "      <td>0.040</td>\n",
       "      <td>591.0</td>\n",
       "      <td>500.0</td>\n",
       "      <td>0.0</td>\n",
       "      <td>0.0</td>\n",
       "      <td>0</td>\n",
       "      <td>835</td>\n",
       "      <td>65</td>\n",
       "      <td>3</td>\n",
       "      <td>...</td>\n",
       "      <td>0</td>\n",
       "      <td>0</td>\n",
       "      <td>0</td>\n",
       "      <td>0</td>\n",
       "      <td>0</td>\n",
       "      <td>0</td>\n",
       "      <td>0</td>\n",
       "      <td>0</td>\n",
       "      <td>0</td>\n",
       "      <td>0</td>\n",
       "    </tr>\n",
       "    <tr>\n",
       "      <th>...</th>\n",
       "      <td>...</td>\n",
       "      <td>...</td>\n",
       "      <td>...</td>\n",
       "      <td>...</td>\n",
       "      <td>...</td>\n",
       "      <td>...</td>\n",
       "      <td>...</td>\n",
       "      <td>...</td>\n",
       "      <td>...</td>\n",
       "      <td>...</td>\n",
       "      <td>...</td>\n",
       "      <td>...</td>\n",
       "      <td>...</td>\n",
       "      <td>...</td>\n",
       "      <td>...</td>\n",
       "      <td>...</td>\n",
       "      <td>...</td>\n",
       "      <td>...</td>\n",
       "      <td>...</td>\n",
       "      <td>...</td>\n",
       "      <td>...</td>\n",
       "    </tr>\n",
       "    <tr>\n",
       "      <th>95</th>\n",
       "      <td>96</td>\n",
       "      <td>0.078</td>\n",
       "      <td>2277.5</td>\n",
       "      <td>500.0</td>\n",
       "      <td>1452.5</td>\n",
       "      <td>1821.5</td>\n",
       "      <td>738</td>\n",
       "      <td>40</td>\n",
       "      <td>122</td>\n",
       "      <td>4</td>\n",
       "      <td>...</td>\n",
       "      <td>0</td>\n",
       "      <td>0</td>\n",
       "      <td>0</td>\n",
       "      <td>0</td>\n",
       "      <td>0</td>\n",
       "      <td>0</td>\n",
       "      <td>0</td>\n",
       "      <td>0</td>\n",
       "      <td>0</td>\n",
       "      <td>0</td>\n",
       "    </tr>\n",
       "    <tr>\n",
       "      <th>96</th>\n",
       "      <td>97</td>\n",
       "      <td>0.078</td>\n",
       "      <td>2254.5</td>\n",
       "      <td>500.0</td>\n",
       "      <td>1399.0</td>\n",
       "      <td>1766.0</td>\n",
       "      <td>734</td>\n",
       "      <td>37</td>\n",
       "      <td>129</td>\n",
       "      <td>4</td>\n",
       "      <td>...</td>\n",
       "      <td>0</td>\n",
       "      <td>0</td>\n",
       "      <td>0</td>\n",
       "      <td>0</td>\n",
       "      <td>0</td>\n",
       "      <td>0</td>\n",
       "      <td>0</td>\n",
       "      <td>0</td>\n",
       "      <td>0</td>\n",
       "      <td>0</td>\n",
       "    </tr>\n",
       "    <tr>\n",
       "      <th>97</th>\n",
       "      <td>98</td>\n",
       "      <td>0.078</td>\n",
       "      <td>2216.5</td>\n",
       "      <td>500.0</td>\n",
       "      <td>1528.5</td>\n",
       "      <td>1925.5</td>\n",
       "      <td>794</td>\n",
       "      <td>6</td>\n",
       "      <td>100</td>\n",
       "      <td>4</td>\n",
       "      <td>...</td>\n",
       "      <td>0</td>\n",
       "      <td>0</td>\n",
       "      <td>0</td>\n",
       "      <td>0</td>\n",
       "      <td>0</td>\n",
       "      <td>0</td>\n",
       "      <td>0</td>\n",
       "      <td>0</td>\n",
       "      <td>0</td>\n",
       "      <td>0</td>\n",
       "    </tr>\n",
       "    <tr>\n",
       "      <th>98</th>\n",
       "      <td>99</td>\n",
       "      <td>0.078</td>\n",
       "      <td>2239.5</td>\n",
       "      <td>500.0</td>\n",
       "      <td>1572.0</td>\n",
       "      <td>1970.0</td>\n",
       "      <td>796</td>\n",
       "      <td>5</td>\n",
       "      <td>99</td>\n",
       "      <td>4</td>\n",
       "      <td>...</td>\n",
       "      <td>0</td>\n",
       "      <td>0</td>\n",
       "      <td>0</td>\n",
       "      <td>0</td>\n",
       "      <td>0</td>\n",
       "      <td>0</td>\n",
       "      <td>0</td>\n",
       "      <td>0</td>\n",
       "      <td>0</td>\n",
       "      <td>0</td>\n",
       "    </tr>\n",
       "    <tr>\n",
       "      <th>99</th>\n",
       "      <td>100</td>\n",
       "      <td>0.078</td>\n",
       "      <td>2338.0</td>\n",
       "      <td>500.0</td>\n",
       "      <td>1580.5</td>\n",
       "      <td>1977.5</td>\n",
       "      <td>794</td>\n",
       "      <td>6</td>\n",
       "      <td>100</td>\n",
       "      <td>4</td>\n",
       "      <td>...</td>\n",
       "      <td>0</td>\n",
       "      <td>0</td>\n",
       "      <td>0</td>\n",
       "      <td>0</td>\n",
       "      <td>0</td>\n",
       "      <td>0</td>\n",
       "      <td>0</td>\n",
       "      <td>0</td>\n",
       "      <td>0</td>\n",
       "      <td>0</td>\n",
       "    </tr>\n",
       "  </tbody>\n",
       "</table>\n",
       "<p>100 rows × 93 columns</p>\n",
       "</div>"
      ],
      "text/plain": [
       "    rep  intra_thres  init_intra_edge  init_supp_edge  fin_intra_edge  \\\n",
       "0     1        0.040            612.0           500.0             0.0   \n",
       "1     2        0.040            624.0           500.0             1.0   \n",
       "2     3        0.040            594.5           500.0             0.0   \n",
       "3     4        0.040            577.5           500.0             0.0   \n",
       "4     5        0.040            591.0           500.0             0.0   \n",
       "..  ...          ...              ...             ...             ...   \n",
       "95   96        0.078           2277.5           500.0          1452.5   \n",
       "96   97        0.078           2254.5           500.0          1399.0   \n",
       "97   98        0.078           2216.5           500.0          1528.5   \n",
       "98   99        0.078           2239.5           500.0          1572.0   \n",
       "99  100        0.078           2338.0           500.0          1580.5   \n",
       "\n",
       "    fin_supp_edge  alive_nodes  tot_isol_node  tot_unsupp_node  cas_steps  \\\n",
       "0             0.0            0            846               54          3   \n",
       "1             3.0            4            855               41          4   \n",
       "2             0.0            0            858               42          4   \n",
       "3             0.0            0            852               48          3   \n",
       "4             0.0            0            835               65          3   \n",
       "..            ...          ...            ...              ...        ...   \n",
       "95         1821.5          738             40              122          4   \n",
       "96         1766.0          734             37              129          4   \n",
       "97         1925.5          794              6              100          4   \n",
       "98         1970.0          796              5               99          4   \n",
       "99         1977.5          794              6              100          4   \n",
       "\n",
       "    ...  step32_isol  step32_unsupp  step33_isol  step33_unsupp  step34_isol  \\\n",
       "0   ...            0              0            0              0            0   \n",
       "1   ...            0              0            0              0            0   \n",
       "2   ...            0              0            0              0            0   \n",
       "3   ...            0              0            0              0            0   \n",
       "4   ...            0              0            0              0            0   \n",
       "..  ...          ...            ...          ...            ...          ...   \n",
       "95  ...            0              0            0              0            0   \n",
       "96  ...            0              0            0              0            0   \n",
       "97  ...            0              0            0              0            0   \n",
       "98  ...            0              0            0              0            0   \n",
       "99  ...            0              0            0              0            0   \n",
       "\n",
       "    step34_unsupp  step35_isol  step35_unsupp  step36_isol  step36_unsupp  \n",
       "0               0            0              0            0              0  \n",
       "1               0            0              0            0              0  \n",
       "2               0            0              0            0              0  \n",
       "3               0            0              0            0              0  \n",
       "4               0            0              0            0              0  \n",
       "..            ...          ...            ...          ...            ...  \n",
       "95              0            0              0            0              0  \n",
       "96              0            0              0            0              0  \n",
       "97              0            0              0            0              0  \n",
       "98              0            0              0            0              0  \n",
       "99              0            0              0            0              0  \n",
       "\n",
       "[100 rows x 93 columns]"
      ]
     },
     "execution_count": 8,
     "metadata": {},
     "output_type": "execute_result"
    }
   ],
   "source": [
    "rgg_rgg_data"
   ]
  },
  {
   "cell_type": "code",
   "execution_count": 23,
   "metadata": {},
   "outputs": [
    {
     "data": {
      "text/html": [
       "<div>\n",
       "<style scoped>\n",
       "    .dataframe tbody tr th:only-of-type {\n",
       "        vertical-align: middle;\n",
       "    }\n",
       "\n",
       "    .dataframe tbody tr th {\n",
       "        vertical-align: top;\n",
       "    }\n",
       "\n",
       "    .dataframe thead th {\n",
       "        text-align: right;\n",
       "    }\n",
       "</style>\n",
       "<table border=\"1\" class=\"dataframe\">\n",
       "  <thead>\n",
       "    <tr style=\"text-align: right;\">\n",
       "      <th></th>\n",
       "      <th>rep</th>\n",
       "      <th>intra_thres</th>\n",
       "      <th>init_intra_edge</th>\n",
       "      <th>init_supp_edge</th>\n",
       "      <th>fin_intra_edge</th>\n",
       "      <th>fin_supp_edge</th>\n",
       "      <th>alive_nodes</th>\n",
       "      <th>tot_isol_node</th>\n",
       "      <th>tot_unsupp_node</th>\n",
       "      <th>cas_steps</th>\n",
       "      <th>...</th>\n",
       "      <th>step35_isol</th>\n",
       "      <th>step35_unsupp</th>\n",
       "      <th>step36_isol</th>\n",
       "      <th>step36_unsupp</th>\n",
       "      <th>step37_isol</th>\n",
       "      <th>step37_unsupp</th>\n",
       "      <th>step38_isol</th>\n",
       "      <th>step38_unsupp</th>\n",
       "      <th>step39_isol</th>\n",
       "      <th>step39_unsupp</th>\n",
       "    </tr>\n",
       "  </thead>\n",
       "  <tbody>\n",
       "    <tr>\n",
       "      <th>0</th>\n",
       "      <td>1</td>\n",
       "      <td>0.035</td>\n",
       "      <td>963.333333</td>\n",
       "      <td>1000</td>\n",
       "      <td>0.000000</td>\n",
       "      <td>0.000000</td>\n",
       "      <td>0</td>\n",
       "      <td>1304</td>\n",
       "      <td>46</td>\n",
       "      <td>5</td>\n",
       "      <td>...</td>\n",
       "      <td>0</td>\n",
       "      <td>0</td>\n",
       "      <td>0</td>\n",
       "      <td>0</td>\n",
       "      <td>0</td>\n",
       "      <td>0</td>\n",
       "      <td>0</td>\n",
       "      <td>0</td>\n",
       "      <td>0</td>\n",
       "      <td>0</td>\n",
       "    </tr>\n",
       "    <tr>\n",
       "      <th>1</th>\n",
       "      <td>2</td>\n",
       "      <td>0.035</td>\n",
       "      <td>970.666667</td>\n",
       "      <td>1000</td>\n",
       "      <td>0.000000</td>\n",
       "      <td>0.000000</td>\n",
       "      <td>0</td>\n",
       "      <td>1291</td>\n",
       "      <td>59</td>\n",
       "      <td>3</td>\n",
       "      <td>...</td>\n",
       "      <td>0</td>\n",
       "      <td>0</td>\n",
       "      <td>0</td>\n",
       "      <td>0</td>\n",
       "      <td>0</td>\n",
       "      <td>0</td>\n",
       "      <td>0</td>\n",
       "      <td>0</td>\n",
       "      <td>0</td>\n",
       "      <td>0</td>\n",
       "    </tr>\n",
       "    <tr>\n",
       "      <th>2</th>\n",
       "      <td>3</td>\n",
       "      <td>0.035</td>\n",
       "      <td>942.000000</td>\n",
       "      <td>1000</td>\n",
       "      <td>0.000000</td>\n",
       "      <td>0.000000</td>\n",
       "      <td>0</td>\n",
       "      <td>1294</td>\n",
       "      <td>56</td>\n",
       "      <td>4</td>\n",
       "      <td>...</td>\n",
       "      <td>0</td>\n",
       "      <td>0</td>\n",
       "      <td>0</td>\n",
       "      <td>0</td>\n",
       "      <td>0</td>\n",
       "      <td>0</td>\n",
       "      <td>0</td>\n",
       "      <td>0</td>\n",
       "      <td>0</td>\n",
       "      <td>0</td>\n",
       "    </tr>\n",
       "    <tr>\n",
       "      <th>3</th>\n",
       "      <td>4</td>\n",
       "      <td>0.035</td>\n",
       "      <td>944.666667</td>\n",
       "      <td>1000</td>\n",
       "      <td>0.000000</td>\n",
       "      <td>0.000000</td>\n",
       "      <td>0</td>\n",
       "      <td>1286</td>\n",
       "      <td>64</td>\n",
       "      <td>3</td>\n",
       "      <td>...</td>\n",
       "      <td>0</td>\n",
       "      <td>0</td>\n",
       "      <td>0</td>\n",
       "      <td>0</td>\n",
       "      <td>0</td>\n",
       "      <td>0</td>\n",
       "      <td>0</td>\n",
       "      <td>0</td>\n",
       "      <td>0</td>\n",
       "      <td>0</td>\n",
       "    </tr>\n",
       "    <tr>\n",
       "      <th>4</th>\n",
       "      <td>5</td>\n",
       "      <td>0.035</td>\n",
       "      <td>932.000000</td>\n",
       "      <td>1000</td>\n",
       "      <td>0.000000</td>\n",
       "      <td>0.000000</td>\n",
       "      <td>0</td>\n",
       "      <td>1289</td>\n",
       "      <td>61</td>\n",
       "      <td>3</td>\n",
       "      <td>...</td>\n",
       "      <td>0</td>\n",
       "      <td>0</td>\n",
       "      <td>0</td>\n",
       "      <td>0</td>\n",
       "      <td>0</td>\n",
       "      <td>0</td>\n",
       "      <td>0</td>\n",
       "      <td>0</td>\n",
       "      <td>0</td>\n",
       "      <td>0</td>\n",
       "    </tr>\n",
       "    <tr>\n",
       "      <th>...</th>\n",
       "      <td>...</td>\n",
       "      <td>...</td>\n",
       "      <td>...</td>\n",
       "      <td>...</td>\n",
       "      <td>...</td>\n",
       "      <td>...</td>\n",
       "      <td>...</td>\n",
       "      <td>...</td>\n",
       "      <td>...</td>\n",
       "      <td>...</td>\n",
       "      <td>...</td>\n",
       "      <td>...</td>\n",
       "      <td>...</td>\n",
       "      <td>...</td>\n",
       "      <td>...</td>\n",
       "      <td>...</td>\n",
       "      <td>...</td>\n",
       "      <td>...</td>\n",
       "      <td>...</td>\n",
       "      <td>...</td>\n",
       "      <td>...</td>\n",
       "    </tr>\n",
       "    <tr>\n",
       "      <th>100</th>\n",
       "      <td>101</td>\n",
       "      <td>0.039</td>\n",
       "      <td>1130.000000</td>\n",
       "      <td>1000</td>\n",
       "      <td>0.000000</td>\n",
       "      <td>0.000000</td>\n",
       "      <td>0</td>\n",
       "      <td>1290</td>\n",
       "      <td>60</td>\n",
       "      <td>4</td>\n",
       "      <td>...</td>\n",
       "      <td>0</td>\n",
       "      <td>0</td>\n",
       "      <td>0</td>\n",
       "      <td>0</td>\n",
       "      <td>0</td>\n",
       "      <td>0</td>\n",
       "      <td>0</td>\n",
       "      <td>0</td>\n",
       "      <td>0</td>\n",
       "      <td>0</td>\n",
       "    </tr>\n",
       "    <tr>\n",
       "      <th>101</th>\n",
       "      <td>102</td>\n",
       "      <td>0.039</td>\n",
       "      <td>1150.666667</td>\n",
       "      <td>1000</td>\n",
       "      <td>0.666667</td>\n",
       "      <td>3.333333</td>\n",
       "      <td>4</td>\n",
       "      <td>1253</td>\n",
       "      <td>93</td>\n",
       "      <td>5</td>\n",
       "      <td>...</td>\n",
       "      <td>0</td>\n",
       "      <td>0</td>\n",
       "      <td>0</td>\n",
       "      <td>0</td>\n",
       "      <td>0</td>\n",
       "      <td>0</td>\n",
       "      <td>0</td>\n",
       "      <td>0</td>\n",
       "      <td>0</td>\n",
       "      <td>0</td>\n",
       "    </tr>\n",
       "    <tr>\n",
       "      <th>102</th>\n",
       "      <td>103</td>\n",
       "      <td>0.039</td>\n",
       "      <td>1174.000000</td>\n",
       "      <td>1000</td>\n",
       "      <td>0.666667</td>\n",
       "      <td>3.333333</td>\n",
       "      <td>4</td>\n",
       "      <td>1257</td>\n",
       "      <td>89</td>\n",
       "      <td>5</td>\n",
       "      <td>...</td>\n",
       "      <td>0</td>\n",
       "      <td>0</td>\n",
       "      <td>0</td>\n",
       "      <td>0</td>\n",
       "      <td>0</td>\n",
       "      <td>0</td>\n",
       "      <td>0</td>\n",
       "      <td>0</td>\n",
       "      <td>0</td>\n",
       "      <td>0</td>\n",
       "    </tr>\n",
       "    <tr>\n",
       "      <th>103</th>\n",
       "      <td>104</td>\n",
       "      <td>0.039</td>\n",
       "      <td>1172.666667</td>\n",
       "      <td>1000</td>\n",
       "      <td>0.000000</td>\n",
       "      <td>0.000000</td>\n",
       "      <td>0</td>\n",
       "      <td>1275</td>\n",
       "      <td>75</td>\n",
       "      <td>6</td>\n",
       "      <td>...</td>\n",
       "      <td>0</td>\n",
       "      <td>0</td>\n",
       "      <td>0</td>\n",
       "      <td>0</td>\n",
       "      <td>0</td>\n",
       "      <td>0</td>\n",
       "      <td>0</td>\n",
       "      <td>0</td>\n",
       "      <td>0</td>\n",
       "      <td>0</td>\n",
       "    </tr>\n",
       "    <tr>\n",
       "      <th>104</th>\n",
       "      <td>105</td>\n",
       "      <td>0.039</td>\n",
       "      <td>1168.000000</td>\n",
       "      <td>1000</td>\n",
       "      <td>0.000000</td>\n",
       "      <td>0.000000</td>\n",
       "      <td>0</td>\n",
       "      <td>1263</td>\n",
       "      <td>87</td>\n",
       "      <td>7</td>\n",
       "      <td>...</td>\n",
       "      <td>0</td>\n",
       "      <td>0</td>\n",
       "      <td>0</td>\n",
       "      <td>0</td>\n",
       "      <td>0</td>\n",
       "      <td>0</td>\n",
       "      <td>0</td>\n",
       "      <td>0</td>\n",
       "      <td>0</td>\n",
       "      <td>0</td>\n",
       "    </tr>\n",
       "  </tbody>\n",
       "</table>\n",
       "<p>105 rows × 99 columns</p>\n",
       "</div>"
      ],
      "text/plain": [
       "     rep  intra_thres  init_intra_edge  init_supp_edge  fin_intra_edge  \\\n",
       "0      1        0.035       963.333333            1000        0.000000   \n",
       "1      2        0.035       970.666667            1000        0.000000   \n",
       "2      3        0.035       942.000000            1000        0.000000   \n",
       "3      4        0.035       944.666667            1000        0.000000   \n",
       "4      5        0.035       932.000000            1000        0.000000   \n",
       "..   ...          ...              ...             ...             ...   \n",
       "100  101        0.039      1130.000000            1000        0.000000   \n",
       "101  102        0.039      1150.666667            1000        0.666667   \n",
       "102  103        0.039      1174.000000            1000        0.666667   \n",
       "103  104        0.039      1172.666667            1000        0.000000   \n",
       "104  105        0.039      1168.000000            1000        0.000000   \n",
       "\n",
       "     fin_supp_edge  alive_nodes  tot_isol_node  tot_unsupp_node  cas_steps  \\\n",
       "0         0.000000            0           1304               46          5   \n",
       "1         0.000000            0           1291               59          3   \n",
       "2         0.000000            0           1294               56          4   \n",
       "3         0.000000            0           1286               64          3   \n",
       "4         0.000000            0           1289               61          3   \n",
       "..             ...          ...            ...              ...        ...   \n",
       "100       0.000000            0           1290               60          4   \n",
       "101       3.333333            4           1253               93          5   \n",
       "102       3.333333            4           1257               89          5   \n",
       "103       0.000000            0           1275               75          6   \n",
       "104       0.000000            0           1263               87          7   \n",
       "\n",
       "     ...  step35_isol  step35_unsupp  step36_isol  step36_unsupp  step37_isol  \\\n",
       "0    ...            0              0            0              0            0   \n",
       "1    ...            0              0            0              0            0   \n",
       "2    ...            0              0            0              0            0   \n",
       "3    ...            0              0            0              0            0   \n",
       "4    ...            0              0            0              0            0   \n",
       "..   ...          ...            ...          ...            ...          ...   \n",
       "100  ...            0              0            0              0            0   \n",
       "101  ...            0              0            0              0            0   \n",
       "102  ...            0              0            0              0            0   \n",
       "103  ...            0              0            0              0            0   \n",
       "104  ...            0              0            0              0            0   \n",
       "\n",
       "     step37_unsupp  step38_isol  step38_unsupp  step39_isol  step39_unsupp  \n",
       "0                0            0              0            0              0  \n",
       "1                0            0              0            0              0  \n",
       "2                0            0              0            0              0  \n",
       "3                0            0              0            0              0  \n",
       "4                0            0              0            0              0  \n",
       "..             ...          ...            ...          ...            ...  \n",
       "100              0            0              0            0              0  \n",
       "101              0            0              0            0              0  \n",
       "102              0            0              0            0              0  \n",
       "103              0            0              0            0              0  \n",
       "104              0            0              0            0              0  \n",
       "\n",
       "[105 rows x 99 columns]"
      ]
     },
     "execution_count": 23,
     "metadata": {},
     "output_type": "execute_result"
    }
   ],
   "source": [
    "rgg_rgg_for_rand_data"
   ]
  },
  {
   "cell_type": "code",
   "execution_count": 24,
   "metadata": {},
   "outputs": [],
   "source": [
    "rgg_rgg_dict = {}\n",
    "rgg_rand_dict = {}\n",
    "rand_rgg_dict = {}\n",
    "rand_rand_dict = {}\n",
    "\n",
    "for i in range(49):\n",
    "    target = [i*5 + 0, i*5 + 1, i*5 + 2, i*5 + 3, i*5 + 4]\n",
    "    \n",
    "    temp_rgg_rgg = rgg_rgg_data[i*5 + 0 : i*5 + 5]\n",
    "    temp_rgg_rand = rgg_rand_data[i*5 + 0 : i*5 + 5]\n",
    "    temp_rand_rgg = rand_rgg_data[i*5 + 0 : i*5 + 5]\n",
    "    temp_rand_rand = rand_rand_data[i*5 + 0 : i*5 + 5]\n",
    "    \n",
    "    if i == 0:\n",
    "        rgg_rgg_dict['intra_thres'] = [statistics.mean(temp_rgg_rgg['intra_thres'].values.tolist())]\n",
    "        rgg_rgg_dict['alive_nodes'] = [statistics.mean(temp_rgg_rgg['alive_nodes'].values.tolist())]\n",
    "        \n",
    "        rgg_rand_dict['intra_thres'] = [statistics.mean(temp_rgg_rand['intra_thres'].values.tolist())]\n",
    "        rgg_rand_dict['alive_nodes'] = [statistics.mean(temp_rgg_rand['alive_nodes'].values.tolist())]\n",
    "        \n",
    "        rand_rgg_dict['intra_thres'] = [statistics.mean(temp_rand_rgg['intra_thres'].values.tolist())]\n",
    "        rand_rgg_dict['alive_nodes'] = [statistics.mean(temp_rand_rgg['alive_nodes'].values.tolist())]\n",
    "        \n",
    "        rand_rand_dict['intra_thres'] = [statistics.mean(temp_rand_rand['intra_thres'].values.tolist())]\n",
    "        rand_rand_dict['alive_nodes'] = [statistics.mean(temp_rand_rand['alive_nodes'].values.tolist())]\n",
    "    else:\n",
    "        rgg_rgg_dict['intra_thres'].append(statistics.mean(temp_rgg_rgg['intra_thres'].values.tolist()))\n",
    "        rgg_rgg_dict['alive_nodes'].append(statistics.mean(temp_rgg_rgg['alive_nodes'].values.tolist()))\n",
    "        \n",
    "        rgg_rand_dict['intra_thres'].append(statistics.mean(temp_rgg_rand['intra_thres'].values.tolist()))\n",
    "        rgg_rand_dict['alive_nodes'].append(statistics.mean(temp_rgg_rand['alive_nodes'].values.tolist()))\n",
    "        \n",
    "        rand_rgg_dict['intra_thres'].append(statistics.mean(temp_rand_rgg['intra_thres'].values.tolist()))\n",
    "        rand_rgg_dict['alive_nodes'].append(statistics.mean(temp_rand_rgg['alive_nodes'].values.tolist()))\n",
    "        \n",
    "        rand_rand_dict['intra_thres'].append(statistics.mean(temp_rand_rand['intra_thres'].values.tolist()))\n",
    "        rand_rand_dict['alive_nodes'].append(statistics.mean(temp_rand_rand['alive_nodes'].values.tolist()))"
   ]
  },
  {
   "cell_type": "code",
   "execution_count": 27,
   "metadata": {},
   "outputs": [],
   "source": [
    "rgg_rgg_for_rand_dict = {}\n",
    "rgg_rand_for_rand_dict = {}\n",
    "rand_rgg_for_rand_dict = {}\n",
    "rand_rand_for_rand_dict = {}\n",
    "\n",
    "for i in range(21):\n",
    "    target = [i*5 + 0, i*5 + 1, i*5 + 2, i*5 + 3, i*5 + 4]\n",
    "    \n",
    "    temp_rgg_rgg = rgg_rgg_for_rand_data[i*5 + 0 : i*5 + 5]\n",
    "    temp_rgg_rand = rgg_rand_for_rand_data[i*5 + 0 : i*5 + 5]\n",
    "    temp_rand_rgg = rand_rgg_for_rand_data[i*5 + 0 : i*5 + 5]\n",
    "    temp_rand_rand = rand_rand_for_rand_data[i*5 + 0 : i*5 + 5]\n",
    "    \n",
    "    if i == 0:\n",
    "        rgg_rgg_for_rand_dict['intra_thres'] = [statistics.mean(temp_rgg_rgg['intra_thres'].values.tolist())]\n",
    "        rgg_rgg_for_rand_dict['alive_nodes'] = [statistics.mean(temp_rgg_rgg['alive_nodes'].values.tolist())]\n",
    "        \n",
    "        rgg_rand_for_rand_dict['intra_thres'] = [statistics.mean(temp_rgg_rand['intra_thres'].values.tolist())]\n",
    "        rgg_rand_for_rand_dict['alive_nodes'] = [statistics.mean(temp_rgg_rand['alive_nodes'].values.tolist())]\n",
    "        \n",
    "        rand_rgg_for_rand_dict['intra_thres'] = [statistics.mean(temp_rand_rgg['intra_thres'].values.tolist())]\n",
    "        rand_rgg_for_rand_dict['alive_nodes'] = [statistics.mean(temp_rand_rgg['alive_nodes'].values.tolist())]\n",
    "        \n",
    "        rand_rand_for_rand_dict['intra_thres'] = [statistics.mean(temp_rand_rand['intra_thres'].values.tolist())]\n",
    "        rand_rand_for_rand_dict['alive_nodes'] = [statistics.mean(temp_rand_rand['alive_nodes'].values.tolist())]\n",
    "    else:\n",
    "        rgg_rgg_for_rand_dict['intra_thres'].append(statistics.mean(temp_rgg_rgg['intra_thres'].values.tolist()))\n",
    "        rgg_rgg_for_rand_dict['alive_nodes'].append(statistics.mean(temp_rgg_rgg['alive_nodes'].values.tolist()))\n",
    "        \n",
    "        rgg_rand_for_rand_dict['intra_thres'].append(statistics.mean(temp_rgg_rand['intra_thres'].values.tolist()))\n",
    "        rgg_rand_for_rand_dict['alive_nodes'].append(statistics.mean(temp_rgg_rand['alive_nodes'].values.tolist()))\n",
    "        \n",
    "        rand_rgg_for_rand_dict['intra_thres'].append(statistics.mean(temp_rand_rgg['intra_thres'].values.tolist()))\n",
    "        rand_rgg_for_rand_dict['alive_nodes'].append(statistics.mean(temp_rand_rgg['alive_nodes'].values.tolist()))\n",
    "        \n",
    "        rand_rand_for_rand_dict['intra_thres'].append(statistics.mean(temp_rand_rand['intra_thres'].values.tolist()))\n",
    "        rand_rand_for_rand_dict['alive_nodes'].append(statistics.mean(temp_rand_rand['alive_nodes'].values.tolist()))"
   ]
  },
  {
   "cell_type": "code",
   "execution_count": 28,
   "metadata": {},
   "outputs": [
    {
     "data": {
      "image/png": "[encoded data removed]",
      "text/plain": [
       "<Figure size 432x288 with 1 Axes>"
      ]
     },
     "metadata": {
      "needs_background": "light"
     },
     "output_type": "display_data"
    }
   ],
   "source": [
    "plt.plot(rgg_rgg_dict['intra_thres'], rgg_rgg_dict['alive_nodes'])\n",
    "plt.plot(rgg_rgg_dict['intra_thres'], rgg_rand_dict['alive_nodes'])\n",
    "plt.plot(rgg_rgg_dict['intra_thres'], rand_rgg_dict['alive_nodes'])\n",
    "plt.plot(rgg_rgg_dict['intra_thres'], rand_rand_dict['alive_nodes'])\n",
    "plt.legend(['RGG-RGG', 'RGG-Rand', 'Rand-RGG', 'Rand-Rand'])\n",
    "plt.title('Mean Alive nodes')\n",
    "plt.show()"
   ]
  },
  {
   "cell_type": "code",
   "execution_count": 29,
   "metadata": {},
   "outputs": [
    {
     "data": {
      "image/png": "[encoded data removed]",
      "text/plain": [
       "<Figure size 432x288 with 1 Axes>"
      ]
     },
     "metadata": {
      "needs_background": "light"
     },
     "output_type": "display_data"
    }
   ],
   "source": [
    "plt.plot(rgg_rgg_for_rand_dict['intra_thres'], rgg_rgg_for_rand_dict['alive_nodes'])\n",
    "plt.plot(rgg_rgg_for_rand_dict['intra_thres'], rgg_rand_for_rand_dict['alive_nodes'])\n",
    "plt.plot(rgg_rgg_for_rand_dict['intra_thres'], rand_rgg_for_rand_dict['alive_nodes'])\n",
    "plt.plot(rgg_rgg_for_rand_dict['intra_thres'], rand_rand_for_rand_dict['alive_nodes'])\n",
    "plt.legend(['RGG-RGG', 'RGG-Rand', 'Rand-RGG', 'Rand-Rand'])\n",
    "plt.title('Mean Alive nodes')\n",
    "plt.show()"
   ]
  },
  {
   "cell_type": "code",
   "execution_count": 9,
   "metadata": {},
   "outputs": [
    {
     "data": {
      "image/png": "[encoded data removed]",
      "text/plain": [
       "<Figure size 432x288 with 1 Axes>"
      ]
     },
     "metadata": {
      "needs_background": "light"
     },
     "output_type": "display_data"
    }
   ],
   "source": [
    "step_nums = []\n",
    "step_nums.append(statistics.mean(rgg_rgg_data['cas_steps'].values.tolist()))\n",
    "step_nums.append(statistics.mean(rgg_rand_data['cas_steps'].values.tolist()))\n",
    "step_nums.append(statistics.mean(rand_rgg_data['cas_steps'].values.tolist()))\n",
    "step_nums.append(statistics.mean(rand_rand_data['cas_steps'].values.tolist()))\n",
    "\n",
    "index = np.arange(4)\n",
    "graph_types = ['RGG-RGG', 'RGG-Rand', 'Rand-RGG', 'Rand-Rand']\n",
    "\n",
    "plt.bar(index, step_nums, width=0.3, color='gray')\n",
    "plt.xticks(index, graph_types)\n",
    "plt.title('Number of steps')\n",
    "plt.savefig('The number of steps.png')\n",
    "plt.show()"
   ]
  },
  {
   "cell_type": "code",
   "execution_count": 8,
   "metadata": {},
   "outputs": [],
   "source": [
    "rgg_rgg_isol = []\n",
    "rgg_rgg_unsupp = []\n",
    "rgg_rand_isol = []\n",
    "rgg_rand_unsupp = []\n",
    "rand_rgg_isol = []\n",
    "rand_rgg_unsupp = []\n",
    "rand_rand_isol = []\n",
    "rand_rand_unsupp =[]"
   ]
  },
  {
   "cell_type": "code",
   "execution_count": 9,
   "metadata": {},
   "outputs": [],
   "source": [
    "index = 1\n",
    "for col_name in rgg_rgg_data:\n",
    "    if col_name == ('step%d_isol' % index):\n",
    "        rgg_rgg_isol.append(statistics.mean(rgg_rgg_data[col_name].values.tolist()))\n",
    "    if col_name == ('step%d_unsupp' % index):\n",
    "        rgg_rgg_unsupp.append(statistics.mean(rgg_rgg_data[col_name].values.tolist()))\n",
    "        index += 1\n",
    "        \n",
    "index = 1\n",
    "for col_name in rgg_rand_data:\n",
    "    if col_name == ('step%d_isol' % index):\n",
    "        rgg_rand_isol.append(statistics.mean(rgg_rand_data[col_name].values.tolist()))\n",
    "    if col_name == ('step%d_unsupp' % index):\n",
    "        rgg_rand_unsupp.append(statistics.mean(rgg_rand_data[col_name].values.tolist()))\n",
    "        index += 1\n",
    "        \n",
    "index = 1\n",
    "for col_name in rand_rgg_data:\n",
    "    if col_name == ('step%d_isol' % index):\n",
    "        rand_rgg_isol.append(statistics.mean(rand_rgg_data[col_name].values.tolist()))\n",
    "    if col_name == ('step%d_unsupp' % index):\n",
    "        rand_rgg_unsupp.append(statistics.mean(rand_rgg_data[col_name].values.tolist()))\n",
    "        index += 1\n",
    "        \n",
    "index = 1\n",
    "for col_name in rand_rand_data:\n",
    "    if col_name == ('step%d_isol' % index):\n",
    "        rand_rand_isol.append(statistics.mean(rand_rand_data[col_name].values.tolist()))\n",
    "    if col_name == ('step%d_unsupp' % index):\n",
    "        rand_rand_unsupp.append(statistics.mean(rand_rand_data[col_name].values.tolist()))\n",
    "        index += 1"
   ]
  },
  {
   "cell_type": "code",
   "execution_count": 10,
   "metadata": {},
   "outputs": [
    {
     "name": "stdout",
     "output_type": "stream",
     "text": [
      "62\n",
      "62\n",
      "14\n",
      "14\n",
      "65\n",
      "65\n",
      "27\n",
      "27\n"
     ]
    }
   ],
   "source": [
    "print(len(rgg_rgg_isol))\n",
    "print(len(rgg_rgg_unsupp))\n",
    "print(len(rgg_rand_isol))\n",
    "print(len(rgg_rand_unsupp))\n",
    "print(len(rand_rgg_isol))\n",
    "print(len(rand_rgg_unsupp))\n",
    "print(len(rand_rand_isol))\n",
    "print(len(rand_rand_unsupp))"
   ]
  },
  {
   "cell_type": "code",
   "execution_count": 11,
   "metadata": {},
   "outputs": [],
   "source": [
    "cum_rgg_rgg_isol = []\n",
    "cum_rgg_rgg_unsupp = []\n",
    "cum_rgg_rand_isol = []\n",
    "cum_rgg_rand_unsupp = []\n",
    "cum_rand_rgg_isol = []\n",
    "cum_rand_rgg_unsupp = []\n",
    "cum_rand_rand_isol = []\n",
    "cum_rand_rand_unsupp = []\n",
    "\n",
    "total = []\n",
    "for i in range(len(rgg_rgg_isol)):\n",
    "    if i == 0:\n",
    "        total.append(rgg_rgg_isol[i])\n",
    "        total.append(rgg_rgg_unsupp[i])\n",
    "    else:\n",
    "        total[0] += rgg_rgg_isol[i]\n",
    "        total[1] += rgg_rgg_unsupp[i]\n",
    "    cum_rgg_rgg_isol.append(total[0])\n",
    "    cum_rgg_rgg_unsupp.append(total[1])\n",
    "    \n",
    "total = []\n",
    "for i in range(len(rgg_rand_isol)):\n",
    "    if i == 0:\n",
    "        total.append(rgg_rand_isol[i])\n",
    "        total.append(rgg_rand_unsupp[i])\n",
    "    else:\n",
    "        total[0] += rgg_rand_isol[i]\n",
    "        total[1] += rgg_rand_unsupp[i]\n",
    "    cum_rgg_rand_isol.append(total[0])\n",
    "    cum_rgg_rand_unsupp.append(total[1])\n",
    "    \n",
    "total = []\n",
    "for i in range(len(rand_rgg_isol)):\n",
    "    if i == 0:\n",
    "        total.append(rand_rgg_isol[i])\n",
    "        total.append(rand_rgg_unsupp[i])\n",
    "    else:\n",
    "        total[0] += rand_rgg_isol[i]\n",
    "        total[1] += rand_rgg_unsupp[i]\n",
    "    cum_rand_rgg_isol.append(total[0])\n",
    "    cum_rand_rgg_unsupp.append(total[1])\n",
    "    \n",
    "total = []\n",
    "for i in range(len(rand_rand_isol)):\n",
    "    if i == 0:\n",
    "        total.append(rand_rand_isol[i])\n",
    "        total.append(rand_rand_unsupp[i])\n",
    "    else:\n",
    "        total[0] += rand_rand_isol[i]\n",
    "        total[1] += rand_rand_unsupp[i]\n",
    "    cum_rand_rand_isol.append(total[0])\n",
    "    cum_rand_rand_unsupp.append(total[1])"
   ]
  },
  {
   "cell_type": "markdown",
   "metadata": {},
   "source": [
    "## Isolation vs Unsupport"
   ]
  },
  {
   "cell_type": "code",
   "execution_count": 12,
   "metadata": {},
   "outputs": [
    {
     "data": {
      "image/png": "[encoded data removed]",
      "text/plain": [
       "<Figure size 432x288 with 1 Axes>"
      ]
     },
     "metadata": {
      "needs_background": "light"
     },
     "output_type": "display_data"
    }
   ],
   "source": [
    "plt.plot(range(len(cum_rgg_rgg_isol)), cum_rgg_rgg_isol)\n",
    "plt.plot(range(len(cum_rgg_rgg_isol)), cum_rgg_rgg_unsupp)\n",
    "plt.legend(['rgg_rgg_isol','rgg_rgg_unsupp'])\n",
    "plt.title('Isolation vs Unsupport: RGG-RGG')\n",
    "plt.savefig('Isolation vs Unsupport_RGG-RGG.png')\n",
    "plt.show()"
   ]
  },
  {
   "cell_type": "code",
   "execution_count": 13,
   "metadata": {},
   "outputs": [
    {
     "data": {
      "image/png": "[encoded data removed]",
      "text/plain": [
       "<Figure size 432x288 with 1 Axes>"
      ]
     },
     "metadata": {
      "needs_background": "light"
     },
     "output_type": "display_data"
    }
   ],
   "source": [
    "plt.plot(range(len(cum_rgg_rand_isol)), cum_rgg_rand_isol)\n",
    "plt.plot(range(len(cum_rgg_rand_isol)), cum_rgg_rand_unsupp)\n",
    "plt.legend(['rgg_rand_isol','rgg_rand_unsupp'])\n",
    "plt.title('Isolation vs Unsupport: RGG-Rand')\n",
    "plt.savefig('Isolation vs Unsupport_RGG-Rand.png')\n",
    "plt.show()"
   ]
  },
  {
   "cell_type": "code",
   "execution_count": 14,
   "metadata": {},
   "outputs": [
    {
     "data": {
      "image/png": "[encoded data removed]",
      "text/plain": [
       "<Figure size 432x288 with 1 Axes>"
      ]
     },
     "metadata": {
      "needs_background": "light"
     },
     "output_type": "display_data"
    }
   ],
   "source": [
    "plt.plot(range(len(cum_rand_rgg_isol)), cum_rand_rgg_isol)\n",
    "plt.plot(range(len(cum_rand_rgg_isol)), cum_rand_rgg_unsupp)\n",
    "plt.legend(['rand_rgg_isol','rand_rgg_unsupp'])\n",
    "plt.title('Isolation vs Unsupport: Rand-RGG')\n",
    "plt.savefig('Isolation vs Unsupport_Rand-RGG.png')\n",
    "plt.show()"
   ]
  },
  {
   "cell_type": "code",
   "execution_count": 15,
   "metadata": {},
   "outputs": [
    {
     "data": {
      "image/png": "[encoded data removed]",
      "text/plain": [
       "<Figure size 432x288 with 1 Axes>"
      ]
     },
     "metadata": {
      "needs_background": "light"
     },
     "output_type": "display_data"
    }
   ],
   "source": [
    "plt.plot(range(len(cum_rand_rand_isol)), cum_rand_rand_isol)\n",
    "plt.plot(range(len(cum_rand_rand_isol)), cum_rand_rand_unsupp)\n",
    "plt.legend(['rand_rand_isol','rand_rand_unsupp'])\n",
    "plt.title('Isolation vs Unsupport: Rand-Rand')\n",
    "plt.savefig('Isolation vs Unsupport_Rand-Rand.png')\n",
    "plt.show()"
   ]
  },
  {
   "cell_type": "code",
   "execution_count": 16,
   "metadata": {},
   "outputs": [],
   "source": [
    "df_len = []\n",
    "\n",
    "df_len.append(list(rgg_rgg_isol))\n",
    "df_len.append(list(rgg_rand_isol))\n",
    "df_len.append(list(rand_rgg_isol))\n",
    "df_len.append(list(rand_rand_isol))\n",
    "\n",
    "max_df_len = max(df_len, key=len)\n",
    "\n",
    "x_val = list(range(len(max_df_len)))"
   ]
  },
  {
   "cell_type": "code",
   "execution_count": 17,
   "metadata": {},
   "outputs": [],
   "source": [
    "proc_isol = []\n",
    "proc_unsupp = []\n",
    "\n",
    "proc_isol.append(cum_rgg_rgg_isol)\n",
    "proc_isol.append(cum_rgg_rand_isol)\n",
    "proc_isol.append(cum_rand_rgg_isol)\n",
    "proc_isol.append(cum_rand_rand_isol)\n",
    "\n",
    "proc_unsupp.append(cum_rgg_rgg_unsupp)\n",
    "proc_unsupp.append(cum_rgg_rand_unsupp)\n",
    "proc_unsupp.append(cum_rand_rgg_unsupp)\n",
    "proc_unsupp.append(cum_rand_rand_unsupp)\n",
    "\n",
    "for x in x_val:\n",
    "    if len(rgg_rgg_isol) <= x:\n",
    "        proc_isol[0].append(cum_rgg_rgg_isol[len(rgg_rgg_isol) - 1])\n",
    "        proc_unsupp[0].append(cum_rgg_rgg_unsupp[len(rgg_rgg_isol) - 1])\n",
    "    if len(rgg_rand_isol) <= x:\n",
    "        proc_isol[1].append(cum_rgg_rand_isol[len(rgg_rand_isol) - 1])\n",
    "        proc_unsupp[1].append(cum_rgg_rand_unsupp[len(rgg_rand_isol) - 1])\n",
    "    if len(rand_rgg_isol) <= x:\n",
    "        proc_isol[2].append(cum_rand_rgg_isol[len(rand_rgg_isol) - 1])\n",
    "        proc_unsupp[2].append(cum_rand_rgg_unsupp[len(rand_rgg_isol) - 1])\n",
    "    if len(rand_rand_isol) <= x:\n",
    "        proc_isol[3].append(cum_rand_rand_isol[len(rand_rand_isol) - 1])\n",
    "        proc_unsupp[3].append(cum_rand_rand_unsupp[len(rand_rand_isol) - 1])"
   ]
  },
  {
   "cell_type": "code",
   "execution_count": 18,
   "metadata": {},
   "outputs": [
    {
     "data": {
      "image/png": "[encoded data removed]",
      "text/plain": [
       "<Figure size 432x288 with 1 Axes>"
      ]
     },
     "metadata": {
      "needs_background": "light"
     },
     "output_type": "display_data"
    }
   ],
   "source": [
    "plt.plot(x_val, proc_isol[0])\n",
    "plt.plot(x_val, proc_isol[1])\n",
    "plt.plot(x_val, proc_isol[2])\n",
    "plt.plot(x_val, proc_isol[3])\n",
    "plt.legend(['rgg_rgg_isol','rgg_rand_isol', 'rand_rgg_isol', 'rand_rand_isol'])\n",
    "plt.title('Isolation trend')\n",
    "plt.show()"
   ]
  },
  {
   "cell_type": "code",
   "execution_count": 19,
   "metadata": {},
   "outputs": [
    {
     "data": {
      "image/png": "[encoded data removed]",
      "text/plain": [
       "<Figure size 432x288 with 1 Axes>"
      ]
     },
     "metadata": {
      "needs_background": "light"
     },
     "output_type": "display_data"
    }
   ],
   "source": [
    "plt.plot(x_val, proc_unsupp[0])\n",
    "plt.plot(x_val, proc_unsupp[1])\n",
    "plt.plot(x_val, proc_unsupp[2])\n",
    "plt.plot(x_val, proc_unsupp[3])\n",
    "plt.legend(['rgg_rgg_unsupp','rgg_rand_unsupp', 'rand_rgg_unsupp', 'rand_rand_unsupp'])\n",
    "plt.title('Unsupport trend')\n",
    "plt.show()"
   ]
  },
  {
   "cell_type": "markdown",
   "metadata": {},
   "source": [
    "## Pie Chart"
   ]
  },
  {
   "cell_type": "code",
   "execution_count": 20,
   "metadata": {},
   "outputs": [],
   "source": [
    "init_death = 150\n",
    "labels = ['Alive nodes', 'Initial death', 'Dead nodes from isolation', 'Dead nodes from unsupport']\n",
    "\n",
    "alive = []\n",
    "alive.append(statistics.mean(rgg_rgg_data['alive_nodes']))\n",
    "alive.append(statistics.mean(rgg_rand_data['alive_nodes']))\n",
    "alive.append(statistics.mean(rand_rgg_data['alive_nodes']))\n",
    "alive.append(statistics.mean(rand_rand_data['alive_nodes']))\n",
    "\n",
    "tot_isol = []\n",
    "tot_isol.append(statistics.mean(rgg_rgg_data['tot_isol_node']))\n",
    "tot_isol.append(statistics.mean(rgg_rand_data['tot_isol_node']))\n",
    "tot_isol.append(statistics.mean(rand_rgg_data['tot_isol_node']))\n",
    "tot_isol.append(statistics.mean(rand_rand_data['tot_isol_node']))\n",
    "\n",
    "tot_unsupp = []\n",
    "tot_unsupp.append(statistics.mean(rgg_rgg_data['tot_unsupp_node']))\n",
    "tot_unsupp.append(statistics.mean(rgg_rand_data['tot_unsupp_node']))\n",
    "tot_unsupp.append(statistics.mean(rand_rgg_data['tot_unsupp_node']))\n",
    "tot_unsupp.append(statistics.mean(rand_rand_data['tot_unsupp_node']))"
   ]
  },
  {
   "cell_type": "code",
   "execution_count": 21,
   "metadata": {},
   "outputs": [
    {
     "data": {
      "image/png": "[encoded data removed]",
      "text/plain": [
       "<Figure size 432x288 with 1 Axes>"
      ]
     },
     "metadata": {},
     "output_type": "display_data"
    }
   ],
   "source": [
    "deaths = [alive[0], init_death, tot_isol[0], tot_unsupp[0]]\n",
    "\n",
    "plt.pie(deaths, labels=labels, autopct='%.1f%%')\n",
    "plt.title('RGG-RGG death trend')\n",
    "plt.show()"
   ]
  },
  {
   "cell_type": "code",
   "execution_count": 22,
   "metadata": {},
   "outputs": [
    {
     "data": {
      "image/png": "[encoded data removed]",
      "text/plain": [
       "<Figure size 432x288 with 1 Axes>"
      ]
     },
     "metadata": {},
     "output_type": "display_data"
    }
   ],
   "source": [
    "deaths = [alive[1], init_death, tot_isol[1], tot_unsupp[1]]\n",
    "\n",
    "plt.pie(deaths, labels=labels, autopct='%.1f%%')\n",
    "plt.title('RGG-Rand death trend')\n",
    "plt.show()"
   ]
  },
  {
   "cell_type": "code",
   "execution_count": 23,
   "metadata": {},
   "outputs": [
    {
     "data": {
      "image/png": "[encoded data removed]",
      "text/plain": [
       "<Figure size 432x288 with 1 Axes>"
      ]
     },
     "metadata": {},
     "output_type": "display_data"
    }
   ],
   "source": [
    "deaths = [alive[2], init_death, tot_isol[2], tot_unsupp[2]]\n",
    "\n",
    "plt.pie(deaths, labels=labels, autopct='%.1f%%')\n",
    "plt.title('Rand-RGG death trend')\n",
    "plt.show()"
   ]
  },
  {
   "cell_type": "code",
   "execution_count": 24,
   "metadata": {},
   "outputs": [
    {
     "data": {
      "image/png": "[encoded data removed]",
      "text/plain": [
       "<Figure size 432x288 with 1 Axes>"
      ]
     },
     "metadata": {},
     "output_type": "display_data"
    }
   ],
   "source": [
    "deaths = [alive[3], init_death, tot_isol[3], tot_unsupp[3]]\n",
    "\n",
    "plt.pie(deaths, labels=labels, autopct='%.1f%%')\n",
    "plt.title('Rand-Rand death trend')\n",
    "plt.show()"
   ]
  },
  {
   "cell_type": "markdown",
   "metadata": {},
   "source": [
    "## Compute the number of nodes"
   ]
  },
  {
   "cell_type": "code",
   "execution_count": 25,
   "metadata": {},
   "outputs": [
    {
     "data": {
      "image/png": "[encoded data removed]",
      "text/plain": [
       "<Figure size 432x288 with 1 Axes>"
      ]
     },
     "metadata": {
      "needs_background": "light"
     },
     "output_type": "display_data"
    }
   ],
   "source": [
    "x_val = np.arange(4)\n",
    "labels = ['initial', 'final']\n",
    "\n",
    "plt.bar(x_val, alive)\n",
    "plt.xticks(x_val, graph_types)\n",
    "plt.title('Alive nodes')\n",
    "plt.savefig('alive nodes.png')\n",
    "plt.show()"
   ]
  },
  {
   "cell_type": "markdown",
   "metadata": {},
   "source": [
    "## Compare the number of edges"
   ]
  },
  {
   "cell_type": "code",
   "execution_count": 26,
   "metadata": {},
   "outputs": [],
   "source": [
    "init_intra = []\n",
    "init_intra.append(statistics.mean(rgg_rgg_data['init_intra_edge']))\n",
    "init_intra.append(statistics.mean(rgg_rand_data['init_intra_edge']))\n",
    "init_intra.append(statistics.mean(rand_rgg_data['init_intra_edge']))\n",
    "init_intra.append(statistics.mean(rand_rand_data['init_intra_edge']))\n",
    "\n",
    "init_inter = []\n",
    "init_inter.append(statistics.mean(rgg_rgg_data['init_inter_edge']))\n",
    "init_inter.append(statistics.mean(rgg_rand_data['init_inter_edge']))\n",
    "init_inter.append(statistics.mean(rand_rgg_data['init_inter_edge']))\n",
    "init_inter.append(statistics.mean(rand_rand_data['init_inter_edge']))\n",
    "\n",
    "init_supp = []\n",
    "init_supp.append(statistics.mean(rgg_rgg_data['init_supp_edge']))\n",
    "init_supp.append(statistics.mean(rgg_rand_data['init_supp_edge']))\n",
    "init_supp.append(statistics.mean(rand_rgg_data['init_supp_edge']))\n",
    "init_supp.append(statistics.mean(rand_rand_data['init_supp_edge']))\n",
    "\n",
    "fin_intra = []\n",
    "fin_intra.append(statistics.mean(rgg_rgg_data['fin_intra_edge']))\n",
    "fin_intra.append(statistics.mean(rgg_rand_data['fin_intra_edge']))\n",
    "fin_intra.append(statistics.mean(rand_rgg_data['fin_intra_edge']))\n",
    "fin_intra.append(statistics.mean(rand_rand_data['fin_intra_edge']))\n",
    "\n",
    "fin_inter = []\n",
    "fin_inter.append(statistics.mean(rgg_rgg_data['fin_inter_edge']))\n",
    "fin_inter.append(statistics.mean(rgg_rand_data['fin_inter_edge']))\n",
    "fin_inter.append(statistics.mean(rand_rgg_data['fin_inter_edge']))\n",
    "fin_inter.append(statistics.mean(rand_rand_data['fin_inter_edge']))\n",
    "\n",
    "fin_supp = []\n",
    "fin_supp.append(statistics.mean(rgg_rgg_data['fin_supp_edge']))\n",
    "fin_supp.append(statistics.mean(rgg_rand_data['fin_supp_edge']))\n",
    "fin_supp.append(statistics.mean(rand_rgg_data['fin_supp_edge']))\n",
    "fin_supp.append(statistics.mean(rand_rand_data['fin_supp_edge']))"
   ]
  },
  {
   "cell_type": "code",
   "execution_count": 27,
   "metadata": {},
   "outputs": [
    {
     "data": {
      "image/png": "[encoded data removed]",
      "text/plain": [
       "<Figure size 432x288 with 1 Axes>"
      ]
     },
     "metadata": {
      "needs_background": "light"
     },
     "output_type": "display_data"
    }
   ],
   "source": [
    "plt.bar(x_val-0.1, init_intra, width=0.2)\n",
    "plt.bar(x_val+0.1, fin_intra, width=0.2)\n",
    "plt.legend(labels)\n",
    "plt.xticks(x_val, graph_types)\n",
    "plt.title('Initial_intra_edge vs Final_intra_edge')\n",
    "plt.show()"
   ]
  },
  {
   "cell_type": "code",
   "execution_count": 28,
   "metadata": {},
   "outputs": [
    {
     "data": {
      "image/png": "[encoded data removed]",
      "text/plain": [
       "<Figure size 432x288 with 1 Axes>"
      ]
     },
     "metadata": {
      "needs_background": "light"
     },
     "output_type": "display_data"
    }
   ],
   "source": [
    "plt.bar(x_val-0.1, init_inter, width=0.2)\n",
    "plt.bar(x_val+0.1, fin_inter, width=0.2)\n",
    "plt.legend(labels)\n",
    "plt.xticks(x_val, graph_types)\n",
    "plt.title('Initial_inter_edge vs Final_inter_edge')\n",
    "plt.show()"
   ]
  },
  {
   "cell_type": "code",
   "execution_count": 29,
   "metadata": {},
   "outputs": [
    {
     "data": {
      "image/png": "[encoded data removed]",
      "text/plain": [
       "<Figure size 432x288 with 1 Axes>"
      ]
     },
     "metadata": {
      "needs_background": "light"
     },
     "output_type": "display_data"
    }
   ],
   "source": [
    "plt.bar(x_val-0.1, init_supp, width=0.2)\n",
    "plt.bar(x_val+0.1, fin_supp, width=0.2)\n",
    "plt.legend(labels)\n",
    "plt.xticks(x_val, graph_types)\n",
    "plt.title('Initial_support_edge vs Final_support_edge')\n",
    "plt.show()"
   ]
  },
  {
   "cell_type": "markdown",
   "metadata": {},
   "source": [
    "## Network Analysis"
   ]
  },
  {
   "cell_type": "code",
   "execution_count": 30,
   "metadata": {},
   "outputs": [],
   "source": [
    "init_far = []\n",
    "init_far.append(statistics.mean(rgg_rgg_data['init_far_node']))\n",
    "init_far.append(statistics.mean(rgg_rand_data['init_far_node']))\n",
    "init_far.append(statistics.mean(rand_rgg_data['init_far_node']))\n",
    "init_far.append(statistics.mean(rand_rand_data['init_far_node']))\n",
    "\n",
    "fin_far = []\n",
    "fin_far.append(statistics.mean(rgg_rgg_data['fin_far_node']))\n",
    "fin_far.append(statistics.mean(rgg_rand_data['fin_far_node']))\n",
    "fin_far.append(statistics.mean(rand_rgg_data['fin_far_node']))\n",
    "fin_far.append(statistics.mean(rand_rand_data['fin_far_node']))"
   ]
  },
  {
   "cell_type": "code",
   "execution_count": 31,
   "metadata": {},
   "outputs": [
    {
     "data": {
      "image/png": "[encoded data removed]",
      "text/plain": [
       "<Figure size 432x288 with 1 Axes>"
      ]
     },
     "metadata": {
      "needs_background": "light"
     },
     "output_type": "display_data"
    }
   ],
   "source": [
    "plt.bar(x_val-0.1, init_far, width=0.2)\n",
    "plt.bar(x_val+0.1, fin_far, width=0.2)\n",
    "plt.legend(labels)\n",
    "plt.xticks(x_val, graph_types)\n",
    "plt.title('Initial_far_node vs Final_far_node')\n",
    "plt.show()"
   ]
  },
  {
   "cell_type": "code",
   "execution_count": 32,
   "metadata": {},
   "outputs": [],
   "source": [
    "init_clust = []\n",
    "init_clust.append(statistics.mean(rgg_rgg_data['init_clust']))\n",
    "init_clust.append(statistics.mean(rgg_rand_data['init_clust']))\n",
    "init_clust.append(statistics.mean(rand_rgg_data['init_clust']))\n",
    "init_clust.append(statistics.mean(rand_rand_data['init_clust']))\n",
    "\n",
    "fin_clust = []\n",
    "fin_clust.append(statistics.mean(rgg_rgg_data['fin_clust']))\n",
    "fin_clust.append(statistics.mean(rgg_rand_data['fin_clust']))\n",
    "fin_clust.append(statistics.mean(rand_rgg_data['fin_clust']))\n",
    "fin_clust.append(statistics.mean(rand_rand_data['fin_clust']))"
   ]
  },
  {
   "cell_type": "code",
   "execution_count": 33,
   "metadata": {},
   "outputs": [
    {
     "data": {
      "image/png": "[encoded data removed]",
      "text/plain": [
       "<Figure size 432x288 with 1 Axes>"
      ]
     },
     "metadata": {
      "needs_background": "light"
     },
     "output_type": "display_data"
    }
   ],
   "source": [
    "plt.bar(x_val-0.1, init_clust, width=0.2)\n",
    "plt.bar(x_val+0.1, fin_clust, width=0.2)\n",
    "plt.legend(labels)\n",
    "plt.xticks(x_val, graph_types)\n",
    "plt.title('Initial_clustering_coefficient vs Final_clustering_coefficient')\n",
    "plt.show()"
   ]
  },
  {
   "cell_type": "code",
   "execution_count": 34,
   "metadata": {},
   "outputs": [],
   "source": [
    "init_mean_deg = []\n",
    "init_mean_deg.append(statistics.mean(rgg_rgg_data['init_mean_deg']))\n",
    "init_mean_deg.append(statistics.mean(rgg_rand_data['init_mean_deg']))\n",
    "init_mean_deg.append(statistics.mean(rand_rgg_data['init_mean_deg']))\n",
    "init_mean_deg.append(statistics.mean(rand_rand_data['init_mean_deg']))\n",
    "\n",
    "fin_mean_deg = []\n",
    "fin_mean_deg.append(statistics.mean(rgg_rgg_data['fin_mean_deg']))\n",
    "fin_mean_deg.append(statistics.mean(rgg_rand_data['fin_mean_deg']))\n",
    "fin_mean_deg.append(statistics.mean(rand_rgg_data['fin_mean_deg']))\n",
    "fin_mean_deg.append(statistics.mean(rand_rand_data['fin_mean_deg']))"
   ]
  },
  {
   "cell_type": "code",
   "execution_count": 35,
   "metadata": {},
   "outputs": [
    {
     "data": {
      "image/png": "[encoded data removed]",
      "text/plain": [
       "<Figure size 432x288 with 1 Axes>"
      ]
     },
     "metadata": {
      "needs_background": "light"
     },
     "output_type": "display_data"
    }
   ],
   "source": [
    "plt.bar(x_val-0.1, init_mean_deg, width=0.2)\n",
    "plt.bar(x_val+0.1, fin_mean_deg, width=0.2)\n",
    "plt.legend(labels)\n",
    "plt.xticks(x_val, graph_types)\n",
    "plt.title('Initial_mean_degree vs Final_mean_degree')\n",
    "plt.show()"
   ]
  },
  {
   "cell_type": "code",
   "execution_count": 36,
   "metadata": {},
   "outputs": [],
   "source": [
    "init_larg_comp = []\n",
    "init_larg_comp.append(statistics.mean(rgg_rgg_data['init_larg_comp']))\n",
    "init_larg_comp.append(statistics.mean(rgg_rand_data['init_larg_comp']))\n",
    "init_larg_comp.append(statistics.mean(rand_rgg_data['init_larg_comp']))\n",
    "init_larg_comp.append(statistics.mean(rand_rand_data['init_larg_comp']))\n",
    "\n",
    "fin_larg_comp = []\n",
    "fin_larg_comp.append(statistics.mean(rgg_rgg_data['fin_larg_comp']))\n",
    "fin_larg_comp.append(statistics.mean(rgg_rand_data['fin_larg_comp']))\n",
    "fin_larg_comp.append(statistics.mean(rand_rgg_data['fin_larg_comp']))\n",
    "fin_larg_comp.append(statistics.mean(rand_rand_data['fin_larg_comp']))"
   ]
  },
  {
   "cell_type": "code",
   "execution_count": 37,
   "metadata": {},
   "outputs": [
    {
     "data": {
      "image/png": "[encoded data removed]",
      "text/plain": [
       "<Figure size 432x288 with 1 Axes>"
      ]
     },
     "metadata": {
      "needs_background": "light"
     },
     "output_type": "display_data"
    }
   ],
   "source": [
    "plt.bar(x_val-0.1, init_larg_comp, width=0.2)\n",
    "plt.bar(x_val+0.1, fin_larg_comp, width=0.2)\n",
    "plt.legend(labels)\n",
    "plt.xticks(x_val, graph_types)\n",
    "plt.title('Initial_largest_component_size vs Final_largest_component_size')\n",
    "plt.show()"
   ]
  },
  {
   "cell_type": "code",
   "execution_count": 38,
   "metadata": {},
   "outputs": [],
   "source": [
    "deg_assort = []\n",
    "\n",
    "a = rgg_rgg_data['deg_assort'].fillna(0)\n",
    "b = rgg_rand_data['deg_assort'].fillna(0)\n",
    "c = rand_rgg_data['deg_assort'].fillna(0)\n",
    "d = rand_rand_data['deg_assort'].fillna(0)\n",
    "\n",
    "deg_assort.append(statistics.mean(a))\n",
    "deg_assort.append(statistics.mean(b))\n",
    "deg_assort.append(statistics.mean(c))\n",
    "deg_assort.append(statistics.mean(d))"
   ]
  },
  {
   "cell_type": "code",
   "execution_count": 39,
   "metadata": {},
   "outputs": [
    {
     "data": {
      "image/png": "[encoded data removed]",
      "text/plain": [
       "<Figure size 432x288 with 1 Axes>"
      ]
     },
     "metadata": {
      "needs_background": "light"
     },
     "output_type": "display_data"
    }
   ],
   "source": [
    "plt.bar(x_val, deg_assort)\n",
    "plt.xticks(x_val, graph_types)\n",
    "plt.title('Degree Assortativity')\n",
    "plt.show()"
   ]
  },
  {
   "cell_type": "code",
   "execution_count": 40,
   "metadata": {},
   "outputs": [],
   "source": [
    "dist_deg_cent = []\n",
    "dist_deg_cent.append(statistics.mean(rgg_rgg_data['dist_deg_cent']))\n",
    "dist_deg_cent.append(statistics.mean(rgg_rand_data['dist_deg_cent']))\n",
    "dist_deg_cent.append(statistics.mean(rand_rgg_data['dist_deg_cent']))\n",
    "dist_deg_cent.append(statistics.mean(rand_rand_data['dist_deg_cent']))"
   ]
  },
  {
   "cell_type": "code",
   "execution_count": 41,
   "metadata": {},
   "outputs": [
    {
     "data": {
      "image/png": "[encoded data removed]",
      "text/plain": [
       "<Figure size 432x288 with 1 Axes>"
      ]
     },
     "metadata": {
      "needs_background": "light"
     },
     "output_type": "display_data"
    }
   ],
   "source": [
    "plt.bar(x_val, dist_deg_cent)\n",
    "plt.xticks(x_val, graph_types)\n",
    "plt.title('Distance to degree centre from the attack point')\n",
    "plt.show()"
   ]
  },
  {
   "cell_type": "code",
   "execution_count": 42,
   "metadata": {},
   "outputs": [],
   "source": [
    "dist_bet_cent = []\n",
    "dist_bet_cent.append(statistics.mean(rgg_rgg_data['dist_bet_cent']))\n",
    "dist_bet_cent.append(statistics.mean(rgg_rand_data['dist_bet_cent']))\n",
    "dist_bet_cent.append(statistics.mean(rand_rgg_data['dist_bet_cent']))\n",
    "dist_bet_cent.append(statistics.mean(rand_rand_data['dist_bet_cent']))"
   ]
  },
  {
   "cell_type": "code",
   "execution_count": 43,
   "metadata": {},
   "outputs": [
    {
     "data": {
      "image/png": "[encoded data removed]",
      "text/plain": [
       "<Figure size 432x288 with 1 Axes>"
      ]
     },
     "metadata": {
      "needs_background": "light"
     },
     "output_type": "display_data"
    }
   ],
   "source": [
    "plt.bar(x_val, dist_bet_cent)\n",
    "plt.xticks(x_val, graph_types)\n",
    "plt.title('Distance to betweenes centre from the attack point')\n",
    "plt.show()"
   ]
  },
  {
   "cell_type": "code",
   "execution_count": null,
   "metadata": {},
   "outputs": [],
   "source": []
  }
 ],
 "metadata": {
  "kernelspec": {
   "display_name": "Python 3",
   "language": "python",
   "name": "python3"
  },
  "language_info": {
   "codemirror_mode": {
    "name": "ipython",
    "version": 3
   },
   "file_extension": ".py",
   "mimetype": "text/x-python",
   "name": "python",
   "nbconvert_exporter": "python",
   "pygments_lexer": "ipython3",
   "version": "3.8.3"
  }
 },
 "nbformat": 4,
 "nbformat_minor": 4
}
