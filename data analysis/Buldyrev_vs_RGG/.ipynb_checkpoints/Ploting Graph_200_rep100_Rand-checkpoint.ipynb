{
 "cells": [
  {
   "cell_type": "code",
   "execution_count": 1,
   "metadata": {},
   "outputs": [],
   "source": [
    "import pandas as pd\n",
    "import matplotlib.pyplot as plt\n",
    "import numpy as np\n",
    "import statistics\n",
    "\n",
    "from scipy import stats"
   ]
  },
  {
   "cell_type": "code",
   "execution_count": 2,
   "metadata": {},
   "outputs": [],
   "source": [
    "buldy_RGG_200_rep100_0685 = pd.read_csv('proc_buldy_RGG_200_rep100_0685.csv')\n",
    "\n",
    "del buldy_RGG_200_rep100_0685['Unnamed: 0']"
   ]
  },
  {
   "cell_type": "code",
   "execution_count": 3,
   "metadata": {
    "collapsed": true
   },
   "outputs": [
    {
     "data": {
      "text/html": [
       "<div>\n",
       "<style scoped>\n",
       "    .dataframe tbody tr th:only-of-type {\n",
       "        vertical-align: middle;\n",
       "    }\n",
       "\n",
       "    .dataframe tbody tr th {\n",
       "        vertical-align: top;\n",
       "    }\n",
       "\n",
       "    .dataframe thead th {\n",
       "        text-align: right;\n",
       "    }\n",
       "</style>\n",
       "<table border=\"1\" class=\"dataframe\">\n",
       "  <thead>\n",
       "    <tr style=\"text-align: right;\">\n",
       "      <th></th>\n",
       "      <th>rep</th>\n",
       "      <th>intra_thres</th>\n",
       "      <th>init_intra_edge</th>\n",
       "      <th>init_supp_edge</th>\n",
       "      <th>fin_intra_edge</th>\n",
       "      <th>fin_supp_edge</th>\n",
       "      <th>alive_nodes</th>\n",
       "      <th>tot_isol_node</th>\n",
       "      <th>tot_unsupp_node</th>\n",
       "      <th>cas_steps</th>\n",
       "      <th>...</th>\n",
       "      <th>step35_far_dead_node</th>\n",
       "      <th>step36_isol</th>\n",
       "      <th>step36_unsupp</th>\n",
       "      <th>step36_far_dead_node</th>\n",
       "      <th>step37_isol</th>\n",
       "      <th>step37_unsupp</th>\n",
       "      <th>step37_far_dead_node</th>\n",
       "      <th>step38_isol</th>\n",
       "      <th>step38_unsupp</th>\n",
       "      <th>step38_far_dead_node</th>\n",
       "    </tr>\n",
       "  </thead>\n",
       "  <tbody>\n",
       "    <tr>\n",
       "      <th>0</th>\n",
       "      <td>1</td>\n",
       "      <td>0.0685</td>\n",
       "      <td>1726.0</td>\n",
       "      <td>500</td>\n",
       "      <td>0.0</td>\n",
       "      <td>0.0</td>\n",
       "      <td>0</td>\n",
       "      <td>417</td>\n",
       "      <td>183</td>\n",
       "      <td>8</td>\n",
       "      <td>...</td>\n",
       "      <td>0.0</td>\n",
       "      <td>0</td>\n",
       "      <td>0</td>\n",
       "      <td>0.0</td>\n",
       "      <td>0</td>\n",
       "      <td>0</td>\n",
       "      <td>0.0</td>\n",
       "      <td>0</td>\n",
       "      <td>0</td>\n",
       "      <td>0</td>\n",
       "    </tr>\n",
       "    <tr>\n",
       "      <th>1</th>\n",
       "      <td>1</td>\n",
       "      <td>0.0685</td>\n",
       "      <td>1726.0</td>\n",
       "      <td>500</td>\n",
       "      <td>0.0</td>\n",
       "      <td>0.0</td>\n",
       "      <td>0</td>\n",
       "      <td>426</td>\n",
       "      <td>174</td>\n",
       "      <td>6</td>\n",
       "      <td>...</td>\n",
       "      <td>0.0</td>\n",
       "      <td>0</td>\n",
       "      <td>0</td>\n",
       "      <td>0.0</td>\n",
       "      <td>0</td>\n",
       "      <td>0</td>\n",
       "      <td>0.0</td>\n",
       "      <td>0</td>\n",
       "      <td>0</td>\n",
       "      <td>0</td>\n",
       "    </tr>\n",
       "    <tr>\n",
       "      <th>2</th>\n",
       "      <td>1</td>\n",
       "      <td>0.0685</td>\n",
       "      <td>1726.0</td>\n",
       "      <td>500</td>\n",
       "      <td>0.0</td>\n",
       "      <td>0.0</td>\n",
       "      <td>0</td>\n",
       "      <td>194</td>\n",
       "      <td>406</td>\n",
       "      <td>15</td>\n",
       "      <td>...</td>\n",
       "      <td>0.0</td>\n",
       "      <td>0</td>\n",
       "      <td>0</td>\n",
       "      <td>0.0</td>\n",
       "      <td>0</td>\n",
       "      <td>0</td>\n",
       "      <td>0.0</td>\n",
       "      <td>0</td>\n",
       "      <td>0</td>\n",
       "      <td>0</td>\n",
       "    </tr>\n",
       "    <tr>\n",
       "      <th>3</th>\n",
       "      <td>1</td>\n",
       "      <td>0.0685</td>\n",
       "      <td>1726.0</td>\n",
       "      <td>500</td>\n",
       "      <td>147.5</td>\n",
       "      <td>271.5</td>\n",
       "      <td>248</td>\n",
       "      <td>64</td>\n",
       "      <td>288</td>\n",
       "      <td>10</td>\n",
       "      <td>...</td>\n",
       "      <td>0.0</td>\n",
       "      <td>0</td>\n",
       "      <td>0</td>\n",
       "      <td>0.0</td>\n",
       "      <td>0</td>\n",
       "      <td>0</td>\n",
       "      <td>0.0</td>\n",
       "      <td>0</td>\n",
       "      <td>0</td>\n",
       "      <td>0</td>\n",
       "    </tr>\n",
       "    <tr>\n",
       "      <th>4</th>\n",
       "      <td>2</td>\n",
       "      <td>0.0685</td>\n",
       "      <td>1699.0</td>\n",
       "      <td>500</td>\n",
       "      <td>1.0</td>\n",
       "      <td>3.0</td>\n",
       "      <td>4</td>\n",
       "      <td>416</td>\n",
       "      <td>180</td>\n",
       "      <td>4</td>\n",
       "      <td>...</td>\n",
       "      <td>0.0</td>\n",
       "      <td>0</td>\n",
       "      <td>0</td>\n",
       "      <td>0.0</td>\n",
       "      <td>0</td>\n",
       "      <td>0</td>\n",
       "      <td>0.0</td>\n",
       "      <td>0</td>\n",
       "      <td>0</td>\n",
       "      <td>0</td>\n",
       "    </tr>\n",
       "    <tr>\n",
       "      <th>...</th>\n",
       "      <td>...</td>\n",
       "      <td>...</td>\n",
       "      <td>...</td>\n",
       "      <td>...</td>\n",
       "      <td>...</td>\n",
       "      <td>...</td>\n",
       "      <td>...</td>\n",
       "      <td>...</td>\n",
       "      <td>...</td>\n",
       "      <td>...</td>\n",
       "      <td>...</td>\n",
       "      <td>...</td>\n",
       "      <td>...</td>\n",
       "      <td>...</td>\n",
       "      <td>...</td>\n",
       "      <td>...</td>\n",
       "      <td>...</td>\n",
       "      <td>...</td>\n",
       "      <td>...</td>\n",
       "      <td>...</td>\n",
       "      <td>...</td>\n",
       "    </tr>\n",
       "    <tr>\n",
       "      <th>395</th>\n",
       "      <td>99</td>\n",
       "      <td>0.0685</td>\n",
       "      <td>1745.0</td>\n",
       "      <td>500</td>\n",
       "      <td>196.5</td>\n",
       "      <td>340.5</td>\n",
       "      <td>288</td>\n",
       "      <td>47</td>\n",
       "      <td>265</td>\n",
       "      <td>10</td>\n",
       "      <td>...</td>\n",
       "      <td>0.0</td>\n",
       "      <td>0</td>\n",
       "      <td>0</td>\n",
       "      <td>0.0</td>\n",
       "      <td>0</td>\n",
       "      <td>0</td>\n",
       "      <td>0.0</td>\n",
       "      <td>0</td>\n",
       "      <td>0</td>\n",
       "      <td>0</td>\n",
       "    </tr>\n",
       "    <tr>\n",
       "      <th>396</th>\n",
       "      <td>100</td>\n",
       "      <td>0.0685</td>\n",
       "      <td>1759.0</td>\n",
       "      <td>500</td>\n",
       "      <td>0.0</td>\n",
       "      <td>0.0</td>\n",
       "      <td>0</td>\n",
       "      <td>389</td>\n",
       "      <td>211</td>\n",
       "      <td>5</td>\n",
       "      <td>...</td>\n",
       "      <td>0.0</td>\n",
       "      <td>0</td>\n",
       "      <td>0</td>\n",
       "      <td>0.0</td>\n",
       "      <td>0</td>\n",
       "      <td>0</td>\n",
       "      <td>0.0</td>\n",
       "      <td>0</td>\n",
       "      <td>0</td>\n",
       "      <td>0</td>\n",
       "    </tr>\n",
       "    <tr>\n",
       "      <th>397</th>\n",
       "      <td>100</td>\n",
       "      <td>0.0685</td>\n",
       "      <td>1759.0</td>\n",
       "      <td>500</td>\n",
       "      <td>0.0</td>\n",
       "      <td>0.0</td>\n",
       "      <td>0</td>\n",
       "      <td>393</td>\n",
       "      <td>207</td>\n",
       "      <td>7</td>\n",
       "      <td>...</td>\n",
       "      <td>0.0</td>\n",
       "      <td>0</td>\n",
       "      <td>0</td>\n",
       "      <td>0.0</td>\n",
       "      <td>0</td>\n",
       "      <td>0</td>\n",
       "      <td>0.0</td>\n",
       "      <td>0</td>\n",
       "      <td>0</td>\n",
       "      <td>0</td>\n",
       "    </tr>\n",
       "    <tr>\n",
       "      <th>398</th>\n",
       "      <td>100</td>\n",
       "      <td>0.0685</td>\n",
       "      <td>1759.0</td>\n",
       "      <td>500</td>\n",
       "      <td>1.0</td>\n",
       "      <td>3.0</td>\n",
       "      <td>4</td>\n",
       "      <td>163</td>\n",
       "      <td>433</td>\n",
       "      <td>26</td>\n",
       "      <td>...</td>\n",
       "      <td>0.0</td>\n",
       "      <td>0</td>\n",
       "      <td>0</td>\n",
       "      <td>0.0</td>\n",
       "      <td>0</td>\n",
       "      <td>0</td>\n",
       "      <td>0.0</td>\n",
       "      <td>0</td>\n",
       "      <td>0</td>\n",
       "      <td>0</td>\n",
       "    </tr>\n",
       "    <tr>\n",
       "      <th>399</th>\n",
       "      <td>100</td>\n",
       "      <td>0.0685</td>\n",
       "      <td>1759.0</td>\n",
       "      <td>500</td>\n",
       "      <td>105.0</td>\n",
       "      <td>196.0</td>\n",
       "      <td>182</td>\n",
       "      <td>92</td>\n",
       "      <td>326</td>\n",
       "      <td>13</td>\n",
       "      <td>...</td>\n",
       "      <td>0.0</td>\n",
       "      <td>0</td>\n",
       "      <td>0</td>\n",
       "      <td>0.0</td>\n",
       "      <td>0</td>\n",
       "      <td>0</td>\n",
       "      <td>0.0</td>\n",
       "      <td>0</td>\n",
       "      <td>0</td>\n",
       "      <td>0</td>\n",
       "    </tr>\n",
       "  </tbody>\n",
       "</table>\n",
       "<p>400 rows × 135 columns</p>\n",
       "</div>"
      ],
      "text/plain": [
       "     rep  intra_thres  init_intra_edge  init_supp_edge  fin_intra_edge  \\\n",
       "0      1       0.0685           1726.0             500             0.0   \n",
       "1      1       0.0685           1726.0             500             0.0   \n",
       "2      1       0.0685           1726.0             500             0.0   \n",
       "3      1       0.0685           1726.0             500           147.5   \n",
       "4      2       0.0685           1699.0             500             1.0   \n",
       "..   ...          ...              ...             ...             ...   \n",
       "395   99       0.0685           1745.0             500           196.5   \n",
       "396  100       0.0685           1759.0             500             0.0   \n",
       "397  100       0.0685           1759.0             500             0.0   \n",
       "398  100       0.0685           1759.0             500             1.0   \n",
       "399  100       0.0685           1759.0             500           105.0   \n",
       "\n",
       "     fin_supp_edge  alive_nodes  tot_isol_node  tot_unsupp_node  cas_steps  \\\n",
       "0              0.0            0            417              183          8   \n",
       "1              0.0            0            426              174          6   \n",
       "2              0.0            0            194              406         15   \n",
       "3            271.5          248             64              288         10   \n",
       "4              3.0            4            416              180          4   \n",
       "..             ...          ...            ...              ...        ...   \n",
       "395          340.5          288             47              265         10   \n",
       "396            0.0            0            389              211          5   \n",
       "397            0.0            0            393              207          7   \n",
       "398            3.0            4            163              433         26   \n",
       "399          196.0          182             92              326         13   \n",
       "\n",
       "     ...  step35_far_dead_node  step36_isol  step36_unsupp  \\\n",
       "0    ...                   0.0            0              0   \n",
       "1    ...                   0.0            0              0   \n",
       "2    ...                   0.0            0              0   \n",
       "3    ...                   0.0            0              0   \n",
       "4    ...                   0.0            0              0   \n",
       "..   ...                   ...          ...            ...   \n",
       "395  ...                   0.0            0              0   \n",
       "396  ...                   0.0            0              0   \n",
       "397  ...                   0.0            0              0   \n",
       "398  ...                   0.0            0              0   \n",
       "399  ...                   0.0            0              0   \n",
       "\n",
       "     step36_far_dead_node  step37_isol  step37_unsupp  step37_far_dead_node  \\\n",
       "0                     0.0            0              0                   0.0   \n",
       "1                     0.0            0              0                   0.0   \n",
       "2                     0.0            0              0                   0.0   \n",
       "3                     0.0            0              0                   0.0   \n",
       "4                     0.0            0              0                   0.0   \n",
       "..                    ...          ...            ...                   ...   \n",
       "395                   0.0            0              0                   0.0   \n",
       "396                   0.0            0              0                   0.0   \n",
       "397                   0.0            0              0                   0.0   \n",
       "398                   0.0            0              0                   0.0   \n",
       "399                   0.0            0              0                   0.0   \n",
       "\n",
       "     step38_isol  step38_unsupp  step38_far_dead_node  \n",
       "0              0              0                     0  \n",
       "1              0              0                     0  \n",
       "2              0              0                     0  \n",
       "3              0              0                     0  \n",
       "4              0              0                     0  \n",
       "..           ...            ...                   ...  \n",
       "395            0              0                     0  \n",
       "396            0              0                     0  \n",
       "397            0              0                     0  \n",
       "398            0              0                     0  \n",
       "399            0              0                     0  \n",
       "\n",
       "[400 rows x 135 columns]"
      ]
     },
     "execution_count": 3,
     "metadata": {},
     "output_type": "execute_result"
    }
   ],
   "source": [
    "buldy_RGG_200_rep100_0685"
   ]
  },
  {
   "cell_type": "code",
   "execution_count": 4,
   "metadata": {},
   "outputs": [],
   "source": [
    "buldy_RGG_200_rep100_095 = pd.read_csv('proc_buldy_RGG_200_rep100_095.csv')\n",
    "\n",
    "del buldy_RGG_200_rep100_095['Unnamed: 0']"
   ]
  },
  {
   "cell_type": "code",
   "execution_count": 5,
   "metadata": {
    "collapsed": true
   },
   "outputs": [
    {
     "data": {
      "text/html": [
       "<div>\n",
       "<style scoped>\n",
       "    .dataframe tbody tr th:only-of-type {\n",
       "        vertical-align: middle;\n",
       "    }\n",
       "\n",
       "    .dataframe tbody tr th {\n",
       "        vertical-align: top;\n",
       "    }\n",
       "\n",
       "    .dataframe thead th {\n",
       "        text-align: right;\n",
       "    }\n",
       "</style>\n",
       "<table border=\"1\" class=\"dataframe\">\n",
       "  <thead>\n",
       "    <tr style=\"text-align: right;\">\n",
       "      <th></th>\n",
       "      <th>rep</th>\n",
       "      <th>intra_thres</th>\n",
       "      <th>init_intra_edge</th>\n",
       "      <th>init_supp_edge</th>\n",
       "      <th>fin_intra_edge</th>\n",
       "      <th>fin_supp_edge</th>\n",
       "      <th>alive_nodes</th>\n",
       "      <th>tot_isol_node</th>\n",
       "      <th>tot_unsupp_node</th>\n",
       "      <th>cas_steps</th>\n",
       "      <th>...</th>\n",
       "      <th>step19_far_dead_node</th>\n",
       "      <th>step20_isol</th>\n",
       "      <th>step20_unsupp</th>\n",
       "      <th>step20_far_dead_node</th>\n",
       "      <th>step21_isol</th>\n",
       "      <th>step21_unsupp</th>\n",
       "      <th>step21_far_dead_node</th>\n",
       "      <th>step22_isol</th>\n",
       "      <th>step22_unsupp</th>\n",
       "      <th>step22_far_dead_node</th>\n",
       "    </tr>\n",
       "  </thead>\n",
       "  <tbody>\n",
       "    <tr>\n",
       "      <th>0</th>\n",
       "      <td>1</td>\n",
       "      <td>0.095</td>\n",
       "      <td>3246.0</td>\n",
       "      <td>500</td>\n",
       "      <td>19.0</td>\n",
       "      <td>33.0</td>\n",
       "      <td>28</td>\n",
       "      <td>193</td>\n",
       "      <td>379</td>\n",
       "      <td>8</td>\n",
       "      <td>...</td>\n",
       "      <td>0.0</td>\n",
       "      <td>0</td>\n",
       "      <td>0</td>\n",
       "      <td>0.0</td>\n",
       "      <td>0</td>\n",
       "      <td>0</td>\n",
       "      <td>0.0</td>\n",
       "      <td>0</td>\n",
       "      <td>0</td>\n",
       "      <td>0</td>\n",
       "    </tr>\n",
       "    <tr>\n",
       "      <th>1</th>\n",
       "      <td>1</td>\n",
       "      <td>0.095</td>\n",
       "      <td>3246.0</td>\n",
       "      <td>500</td>\n",
       "      <td>606.5</td>\n",
       "      <td>789.5</td>\n",
       "      <td>366</td>\n",
       "      <td>1</td>\n",
       "      <td>233</td>\n",
       "      <td>4</td>\n",
       "      <td>...</td>\n",
       "      <td>0.0</td>\n",
       "      <td>0</td>\n",
       "      <td>0</td>\n",
       "      <td>0.0</td>\n",
       "      <td>0</td>\n",
       "      <td>0</td>\n",
       "      <td>0.0</td>\n",
       "      <td>0</td>\n",
       "      <td>0</td>\n",
       "      <td>0</td>\n",
       "    </tr>\n",
       "    <tr>\n",
       "      <th>2</th>\n",
       "      <td>1</td>\n",
       "      <td>0.095</td>\n",
       "      <td>3246.0</td>\n",
       "      <td>500</td>\n",
       "      <td>314.0</td>\n",
       "      <td>466.0</td>\n",
       "      <td>304</td>\n",
       "      <td>9</td>\n",
       "      <td>287</td>\n",
       "      <td>4</td>\n",
       "      <td>...</td>\n",
       "      <td>0.0</td>\n",
       "      <td>0</td>\n",
       "      <td>0</td>\n",
       "      <td>0.0</td>\n",
       "      <td>0</td>\n",
       "      <td>0</td>\n",
       "      <td>0.0</td>\n",
       "      <td>0</td>\n",
       "      <td>0</td>\n",
       "      <td>0</td>\n",
       "    </tr>\n",
       "    <tr>\n",
       "      <th>3</th>\n",
       "      <td>1</td>\n",
       "      <td>0.095</td>\n",
       "      <td>3246.0</td>\n",
       "      <td>500</td>\n",
       "      <td>438.5</td>\n",
       "      <td>619.5</td>\n",
       "      <td>362</td>\n",
       "      <td>4</td>\n",
       "      <td>234</td>\n",
       "      <td>4</td>\n",
       "      <td>...</td>\n",
       "      <td>0.0</td>\n",
       "      <td>0</td>\n",
       "      <td>0</td>\n",
       "      <td>0.0</td>\n",
       "      <td>0</td>\n",
       "      <td>0</td>\n",
       "      <td>0.0</td>\n",
       "      <td>0</td>\n",
       "      <td>0</td>\n",
       "      <td>0</td>\n",
       "    </tr>\n",
       "    <tr>\n",
       "      <th>4</th>\n",
       "      <td>2</td>\n",
       "      <td>0.095</td>\n",
       "      <td>3306.0</td>\n",
       "      <td>500</td>\n",
       "      <td>2.5</td>\n",
       "      <td>5.5</td>\n",
       "      <td>6</td>\n",
       "      <td>171</td>\n",
       "      <td>423</td>\n",
       "      <td>8</td>\n",
       "      <td>...</td>\n",
       "      <td>0.0</td>\n",
       "      <td>0</td>\n",
       "      <td>0</td>\n",
       "      <td>0.0</td>\n",
       "      <td>0</td>\n",
       "      <td>0</td>\n",
       "      <td>0.0</td>\n",
       "      <td>0</td>\n",
       "      <td>0</td>\n",
       "      <td>0</td>\n",
       "    </tr>\n",
       "    <tr>\n",
       "      <th>...</th>\n",
       "      <td>...</td>\n",
       "      <td>...</td>\n",
       "      <td>...</td>\n",
       "      <td>...</td>\n",
       "      <td>...</td>\n",
       "      <td>...</td>\n",
       "      <td>...</td>\n",
       "      <td>...</td>\n",
       "      <td>...</td>\n",
       "      <td>...</td>\n",
       "      <td>...</td>\n",
       "      <td>...</td>\n",
       "      <td>...</td>\n",
       "      <td>...</td>\n",
       "      <td>...</td>\n",
       "      <td>...</td>\n",
       "      <td>...</td>\n",
       "      <td>...</td>\n",
       "      <td>...</td>\n",
       "      <td>...</td>\n",
       "      <td>...</td>\n",
       "    </tr>\n",
       "    <tr>\n",
       "      <th>395</th>\n",
       "      <td>99</td>\n",
       "      <td>0.095</td>\n",
       "      <td>3263.5</td>\n",
       "      <td>500</td>\n",
       "      <td>416.5</td>\n",
       "      <td>591.5</td>\n",
       "      <td>350</td>\n",
       "      <td>5</td>\n",
       "      <td>245</td>\n",
       "      <td>4</td>\n",
       "      <td>...</td>\n",
       "      <td>0.0</td>\n",
       "      <td>0</td>\n",
       "      <td>0</td>\n",
       "      <td>0.0</td>\n",
       "      <td>0</td>\n",
       "      <td>0</td>\n",
       "      <td>0.0</td>\n",
       "      <td>0</td>\n",
       "      <td>0</td>\n",
       "      <td>0</td>\n",
       "    </tr>\n",
       "    <tr>\n",
       "      <th>396</th>\n",
       "      <td>100</td>\n",
       "      <td>0.095</td>\n",
       "      <td>3262.5</td>\n",
       "      <td>500</td>\n",
       "      <td>0.0</td>\n",
       "      <td>0.0</td>\n",
       "      <td>0</td>\n",
       "      <td>188</td>\n",
       "      <td>412</td>\n",
       "      <td>10</td>\n",
       "      <td>...</td>\n",
       "      <td>0.0</td>\n",
       "      <td>0</td>\n",
       "      <td>0</td>\n",
       "      <td>0.0</td>\n",
       "      <td>0</td>\n",
       "      <td>0</td>\n",
       "      <td>0.0</td>\n",
       "      <td>0</td>\n",
       "      <td>0</td>\n",
       "      <td>0</td>\n",
       "    </tr>\n",
       "    <tr>\n",
       "      <th>397</th>\n",
       "      <td>100</td>\n",
       "      <td>0.095</td>\n",
       "      <td>3262.5</td>\n",
       "      <td>500</td>\n",
       "      <td>0.0</td>\n",
       "      <td>0.0</td>\n",
       "      <td>0</td>\n",
       "      <td>181</td>\n",
       "      <td>419</td>\n",
       "      <td>10</td>\n",
       "      <td>...</td>\n",
       "      <td>0.0</td>\n",
       "      <td>0</td>\n",
       "      <td>0</td>\n",
       "      <td>0.0</td>\n",
       "      <td>0</td>\n",
       "      <td>0</td>\n",
       "      <td>0.0</td>\n",
       "      <td>0</td>\n",
       "      <td>0</td>\n",
       "      <td>0</td>\n",
       "    </tr>\n",
       "    <tr>\n",
       "      <th>398</th>\n",
       "      <td>100</td>\n",
       "      <td>0.095</td>\n",
       "      <td>3262.5</td>\n",
       "      <td>500</td>\n",
       "      <td>288.5</td>\n",
       "      <td>435.5</td>\n",
       "      <td>294</td>\n",
       "      <td>7</td>\n",
       "      <td>299</td>\n",
       "      <td>4</td>\n",
       "      <td>...</td>\n",
       "      <td>0.0</td>\n",
       "      <td>0</td>\n",
       "      <td>0</td>\n",
       "      <td>0.0</td>\n",
       "      <td>0</td>\n",
       "      <td>0</td>\n",
       "      <td>0.0</td>\n",
       "      <td>0</td>\n",
       "      <td>0</td>\n",
       "      <td>0</td>\n",
       "    </tr>\n",
       "    <tr>\n",
       "      <th>399</th>\n",
       "      <td>100</td>\n",
       "      <td>0.095</td>\n",
       "      <td>3262.5</td>\n",
       "      <td>500</td>\n",
       "      <td>397.0</td>\n",
       "      <td>573.0</td>\n",
       "      <td>352</td>\n",
       "      <td>3</td>\n",
       "      <td>245</td>\n",
       "      <td>4</td>\n",
       "      <td>...</td>\n",
       "      <td>0.0</td>\n",
       "      <td>0</td>\n",
       "      <td>0</td>\n",
       "      <td>0.0</td>\n",
       "      <td>0</td>\n",
       "      <td>0</td>\n",
       "      <td>0.0</td>\n",
       "      <td>0</td>\n",
       "      <td>0</td>\n",
       "      <td>0</td>\n",
       "    </tr>\n",
       "  </tbody>\n",
       "</table>\n",
       "<p>400 rows × 87 columns</p>\n",
       "</div>"
      ],
      "text/plain": [
       "     rep  intra_thres  init_intra_edge  init_supp_edge  fin_intra_edge  \\\n",
       "0      1        0.095           3246.0             500            19.0   \n",
       "1      1        0.095           3246.0             500           606.5   \n",
       "2      1        0.095           3246.0             500           314.0   \n",
       "3      1        0.095           3246.0             500           438.5   \n",
       "4      2        0.095           3306.0             500             2.5   \n",
       "..   ...          ...              ...             ...             ...   \n",
       "395   99        0.095           3263.5             500           416.5   \n",
       "396  100        0.095           3262.5             500             0.0   \n",
       "397  100        0.095           3262.5             500             0.0   \n",
       "398  100        0.095           3262.5             500           288.5   \n",
       "399  100        0.095           3262.5             500           397.0   \n",
       "\n",
       "     fin_supp_edge  alive_nodes  tot_isol_node  tot_unsupp_node  cas_steps  \\\n",
       "0             33.0           28            193              379          8   \n",
       "1            789.5          366              1              233          4   \n",
       "2            466.0          304              9              287          4   \n",
       "3            619.5          362              4              234          4   \n",
       "4              5.5            6            171              423          8   \n",
       "..             ...          ...            ...              ...        ...   \n",
       "395          591.5          350              5              245          4   \n",
       "396            0.0            0            188              412         10   \n",
       "397            0.0            0            181              419         10   \n",
       "398          435.5          294              7              299          4   \n",
       "399          573.0          352              3              245          4   \n",
       "\n",
       "     ...  step19_far_dead_node  step20_isol  step20_unsupp  \\\n",
       "0    ...                   0.0            0              0   \n",
       "1    ...                   0.0            0              0   \n",
       "2    ...                   0.0            0              0   \n",
       "3    ...                   0.0            0              0   \n",
       "4    ...                   0.0            0              0   \n",
       "..   ...                   ...          ...            ...   \n",
       "395  ...                   0.0            0              0   \n",
       "396  ...                   0.0            0              0   \n",
       "397  ...                   0.0            0              0   \n",
       "398  ...                   0.0            0              0   \n",
       "399  ...                   0.0            0              0   \n",
       "\n",
       "     step20_far_dead_node  step21_isol  step21_unsupp  step21_far_dead_node  \\\n",
       "0                     0.0            0              0                   0.0   \n",
       "1                     0.0            0              0                   0.0   \n",
       "2                     0.0            0              0                   0.0   \n",
       "3                     0.0            0              0                   0.0   \n",
       "4                     0.0            0              0                   0.0   \n",
       "..                    ...          ...            ...                   ...   \n",
       "395                   0.0            0              0                   0.0   \n",
       "396                   0.0            0              0                   0.0   \n",
       "397                   0.0            0              0                   0.0   \n",
       "398                   0.0            0              0                   0.0   \n",
       "399                   0.0            0              0                   0.0   \n",
       "\n",
       "     step22_isol  step22_unsupp  step22_far_dead_node  \n",
       "0              0              0                     0  \n",
       "1              0              0                     0  \n",
       "2              0              0                     0  \n",
       "3              0              0                     0  \n",
       "4              0              0                     0  \n",
       "..           ...            ...                   ...  \n",
       "395            0              0                     0  \n",
       "396            0              0                     0  \n",
       "397            0              0                     0  \n",
       "398            0              0                     0  \n",
       "399            0              0                     0  \n",
       "\n",
       "[400 rows x 87 columns]"
      ]
     },
     "execution_count": 5,
     "metadata": {},
     "output_type": "execute_result"
    }
   ],
   "source": [
    "buldy_RGG_200_rep100_095"
   ]
  },
  {
   "cell_type": "code",
   "execution_count": 6,
   "metadata": {},
   "outputs": [],
   "source": [
    "buldy_RGG_200_rep100_0685_rgg_rgg_data = buldy_RGG_200_rep100_0685.copy()\n",
    "buldy_RGG_200_rep100_0685_rgg_rand_data = buldy_RGG_200_rep100_0685.copy()\n",
    "buldy_RGG_200_rep100_0685_rand_rgg_data = buldy_RGG_200_rep100_0685.copy()\n",
    "buldy_RGG_200_rep100_0685_rand_rand_data = buldy_RGG_200_rep100_0685.copy()\n",
    "\n",
    "rgg_rgg_drop_list = []\n",
    "rgg_rand_drop_list = []\n",
    "rand_rgg_drop_list = []\n",
    "rand_rand_drop_list = []\n",
    "\n",
    "for i in range(400):\n",
    "    if i % 4 == 0:\n",
    "        rgg_rand_drop_list.append(i)\n",
    "        rand_rgg_drop_list.append(i)\n",
    "        rand_rand_drop_list.append(i)\n",
    "    elif i % 4 == 1:\n",
    "        rgg_rgg_drop_list.append(i)\n",
    "        rand_rgg_drop_list.append(i)\n",
    "        rand_rand_drop_list.append(i)\n",
    "    elif i % 4 == 2:\n",
    "        rgg_rgg_drop_list.append(i)\n",
    "        rgg_rand_drop_list.append(i)\n",
    "        rand_rand_drop_list.append(i)\n",
    "    elif i % 4 == 3:\n",
    "        rgg_rgg_drop_list.append(i)\n",
    "        rgg_rand_drop_list.append(i)\n",
    "        rand_rgg_drop_list.append(i)       \n",
    "\n",
    "buldy_RGG_200_rep100_0685_rgg_rgg_data = buldy_RGG_200_rep100_0685_rgg_rgg_data.drop(rgg_rgg_drop_list)\n",
    "buldy_RGG_200_rep100_0685_rgg_rand_data = buldy_RGG_200_rep100_0685_rgg_rand_data.drop(rgg_rand_drop_list)\n",
    "buldy_RGG_200_rep100_0685_rand_rgg_data = buldy_RGG_200_rep100_0685_rand_rgg_data.drop(rand_rgg_drop_list)\n",
    "buldy_RGG_200_rep100_0685_rand_rand_data = buldy_RGG_200_rep100_0685_rand_rand_data.drop(rand_rand_drop_list)\n",
    "\n",
    "buldy_RGG_200_rep100_0685_rgg_rgg_data = buldy_RGG_200_rep100_0685_rgg_rgg_data.reset_index(drop=True)\n",
    "buldy_RGG_200_rep100_0685_rgg_rand_data = buldy_RGG_200_rep100_0685_rgg_rand_data.reset_index(drop=True)\n",
    "buldy_RGG_200_rep100_0685_rand_rgg_data = buldy_RGG_200_rep100_0685_rand_rgg_data.reset_index(drop=True)\n",
    "buldy_RGG_200_rep100_0685_rand_rand_data = buldy_RGG_200_rep100_0685_rand_rand_data.reset_index(drop=True)"
   ]
  },
  {
   "cell_type": "code",
   "execution_count": 7,
   "metadata": {
    "collapsed": true
   },
   "outputs": [
    {
     "data": {
      "text/html": [
       "<div>\n",
       "<style scoped>\n",
       "    .dataframe tbody tr th:only-of-type {\n",
       "        vertical-align: middle;\n",
       "    }\n",
       "\n",
       "    .dataframe tbody tr th {\n",
       "        vertical-align: top;\n",
       "    }\n",
       "\n",
       "    .dataframe thead th {\n",
       "        text-align: right;\n",
       "    }\n",
       "</style>\n",
       "<table border=\"1\" class=\"dataframe\">\n",
       "  <thead>\n",
       "    <tr style=\"text-align: right;\">\n",
       "      <th></th>\n",
       "      <th>rep</th>\n",
       "      <th>intra_thres</th>\n",
       "      <th>init_intra_edge</th>\n",
       "      <th>init_supp_edge</th>\n",
       "      <th>fin_intra_edge</th>\n",
       "      <th>fin_supp_edge</th>\n",
       "      <th>alive_nodes</th>\n",
       "      <th>tot_isol_node</th>\n",
       "      <th>tot_unsupp_node</th>\n",
       "      <th>cas_steps</th>\n",
       "      <th>...</th>\n",
       "      <th>step35_far_dead_node</th>\n",
       "      <th>step36_isol</th>\n",
       "      <th>step36_unsupp</th>\n",
       "      <th>step36_far_dead_node</th>\n",
       "      <th>step37_isol</th>\n",
       "      <th>step37_unsupp</th>\n",
       "      <th>step37_far_dead_node</th>\n",
       "      <th>step38_isol</th>\n",
       "      <th>step38_unsupp</th>\n",
       "      <th>step38_far_dead_node</th>\n",
       "    </tr>\n",
       "  </thead>\n",
       "  <tbody>\n",
       "    <tr>\n",
       "      <th>0</th>\n",
       "      <td>1</td>\n",
       "      <td>0.0685</td>\n",
       "      <td>1726.0</td>\n",
       "      <td>500</td>\n",
       "      <td>0.0</td>\n",
       "      <td>0.0</td>\n",
       "      <td>0</td>\n",
       "      <td>417</td>\n",
       "      <td>183</td>\n",
       "      <td>8</td>\n",
       "      <td>...</td>\n",
       "      <td>0.0</td>\n",
       "      <td>0</td>\n",
       "      <td>0</td>\n",
       "      <td>0.0</td>\n",
       "      <td>0</td>\n",
       "      <td>0</td>\n",
       "      <td>0.0</td>\n",
       "      <td>0</td>\n",
       "      <td>0</td>\n",
       "      <td>0</td>\n",
       "    </tr>\n",
       "    <tr>\n",
       "      <th>1</th>\n",
       "      <td>2</td>\n",
       "      <td>0.0685</td>\n",
       "      <td>1699.0</td>\n",
       "      <td>500</td>\n",
       "      <td>1.0</td>\n",
       "      <td>3.0</td>\n",
       "      <td>4</td>\n",
       "      <td>416</td>\n",
       "      <td>180</td>\n",
       "      <td>4</td>\n",
       "      <td>...</td>\n",
       "      <td>0.0</td>\n",
       "      <td>0</td>\n",
       "      <td>0</td>\n",
       "      <td>0.0</td>\n",
       "      <td>0</td>\n",
       "      <td>0</td>\n",
       "      <td>0.0</td>\n",
       "      <td>0</td>\n",
       "      <td>0</td>\n",
       "      <td>0</td>\n",
       "    </tr>\n",
       "    <tr>\n",
       "      <th>2</th>\n",
       "      <td>3</td>\n",
       "      <td>0.0685</td>\n",
       "      <td>1724.5</td>\n",
       "      <td>500</td>\n",
       "      <td>0.0</td>\n",
       "      <td>0.0</td>\n",
       "      <td>0</td>\n",
       "      <td>300</td>\n",
       "      <td>300</td>\n",
       "      <td>4</td>\n",
       "      <td>...</td>\n",
       "      <td>0.0</td>\n",
       "      <td>0</td>\n",
       "      <td>0</td>\n",
       "      <td>0.0</td>\n",
       "      <td>0</td>\n",
       "      <td>0</td>\n",
       "      <td>0.0</td>\n",
       "      <td>0</td>\n",
       "      <td>0</td>\n",
       "      <td>0</td>\n",
       "    </tr>\n",
       "    <tr>\n",
       "      <th>3</th>\n",
       "      <td>4</td>\n",
       "      <td>0.0685</td>\n",
       "      <td>1661.0</td>\n",
       "      <td>500</td>\n",
       "      <td>1.0</td>\n",
       "      <td>3.0</td>\n",
       "      <td>4</td>\n",
       "      <td>407</td>\n",
       "      <td>189</td>\n",
       "      <td>4</td>\n",
       "      <td>...</td>\n",
       "      <td>0.0</td>\n",
       "      <td>0</td>\n",
       "      <td>0</td>\n",
       "      <td>0.0</td>\n",
       "      <td>0</td>\n",
       "      <td>0</td>\n",
       "      <td>0.0</td>\n",
       "      <td>0</td>\n",
       "      <td>0</td>\n",
       "      <td>0</td>\n",
       "    </tr>\n",
       "    <tr>\n",
       "      <th>4</th>\n",
       "      <td>5</td>\n",
       "      <td>0.0685</td>\n",
       "      <td>1773.5</td>\n",
       "      <td>500</td>\n",
       "      <td>0.0</td>\n",
       "      <td>0.0</td>\n",
       "      <td>0</td>\n",
       "      <td>406</td>\n",
       "      <td>194</td>\n",
       "      <td>8</td>\n",
       "      <td>...</td>\n",
       "      <td>0.0</td>\n",
       "      <td>0</td>\n",
       "      <td>0</td>\n",
       "      <td>0.0</td>\n",
       "      <td>0</td>\n",
       "      <td>0</td>\n",
       "      <td>0.0</td>\n",
       "      <td>0</td>\n",
       "      <td>0</td>\n",
       "      <td>0</td>\n",
       "    </tr>\n",
       "    <tr>\n",
       "      <th>...</th>\n",
       "      <td>...</td>\n",
       "      <td>...</td>\n",
       "      <td>...</td>\n",
       "      <td>...</td>\n",
       "      <td>...</td>\n",
       "      <td>...</td>\n",
       "      <td>...</td>\n",
       "      <td>...</td>\n",
       "      <td>...</td>\n",
       "      <td>...</td>\n",
       "      <td>...</td>\n",
       "      <td>...</td>\n",
       "      <td>...</td>\n",
       "      <td>...</td>\n",
       "      <td>...</td>\n",
       "      <td>...</td>\n",
       "      <td>...</td>\n",
       "      <td>...</td>\n",
       "      <td>...</td>\n",
       "      <td>...</td>\n",
       "      <td>...</td>\n",
       "    </tr>\n",
       "    <tr>\n",
       "      <th>95</th>\n",
       "      <td>96</td>\n",
       "      <td>0.0685</td>\n",
       "      <td>1714.0</td>\n",
       "      <td>500</td>\n",
       "      <td>0.0</td>\n",
       "      <td>0.0</td>\n",
       "      <td>0</td>\n",
       "      <td>375</td>\n",
       "      <td>225</td>\n",
       "      <td>4</td>\n",
       "      <td>...</td>\n",
       "      <td>0.0</td>\n",
       "      <td>0</td>\n",
       "      <td>0</td>\n",
       "      <td>0.0</td>\n",
       "      <td>0</td>\n",
       "      <td>0</td>\n",
       "      <td>0.0</td>\n",
       "      <td>0</td>\n",
       "      <td>0</td>\n",
       "      <td>0</td>\n",
       "    </tr>\n",
       "    <tr>\n",
       "      <th>96</th>\n",
       "      <td>97</td>\n",
       "      <td>0.0685</td>\n",
       "      <td>1780.5</td>\n",
       "      <td>500</td>\n",
       "      <td>1.0</td>\n",
       "      <td>3.0</td>\n",
       "      <td>4</td>\n",
       "      <td>358</td>\n",
       "      <td>238</td>\n",
       "      <td>5</td>\n",
       "      <td>...</td>\n",
       "      <td>0.0</td>\n",
       "      <td>0</td>\n",
       "      <td>0</td>\n",
       "      <td>0.0</td>\n",
       "      <td>0</td>\n",
       "      <td>0</td>\n",
       "      <td>0.0</td>\n",
       "      <td>0</td>\n",
       "      <td>0</td>\n",
       "      <td>0</td>\n",
       "    </tr>\n",
       "    <tr>\n",
       "      <th>97</th>\n",
       "      <td>98</td>\n",
       "      <td>0.0685</td>\n",
       "      <td>1747.5</td>\n",
       "      <td>500</td>\n",
       "      <td>0.0</td>\n",
       "      <td>0.0</td>\n",
       "      <td>0</td>\n",
       "      <td>324</td>\n",
       "      <td>276</td>\n",
       "      <td>5</td>\n",
       "      <td>...</td>\n",
       "      <td>0.0</td>\n",
       "      <td>0</td>\n",
       "      <td>0</td>\n",
       "      <td>0.0</td>\n",
       "      <td>0</td>\n",
       "      <td>0</td>\n",
       "      <td>0.0</td>\n",
       "      <td>0</td>\n",
       "      <td>0</td>\n",
       "      <td>0</td>\n",
       "    </tr>\n",
       "    <tr>\n",
       "      <th>98</th>\n",
       "      <td>99</td>\n",
       "      <td>0.0685</td>\n",
       "      <td>1745.0</td>\n",
       "      <td>500</td>\n",
       "      <td>1.0</td>\n",
       "      <td>3.0</td>\n",
       "      <td>4</td>\n",
       "      <td>289</td>\n",
       "      <td>307</td>\n",
       "      <td>8</td>\n",
       "      <td>...</td>\n",
       "      <td>0.0</td>\n",
       "      <td>0</td>\n",
       "      <td>0</td>\n",
       "      <td>0.0</td>\n",
       "      <td>0</td>\n",
       "      <td>0</td>\n",
       "      <td>0.0</td>\n",
       "      <td>0</td>\n",
       "      <td>0</td>\n",
       "      <td>0</td>\n",
       "    </tr>\n",
       "    <tr>\n",
       "      <th>99</th>\n",
       "      <td>100</td>\n",
       "      <td>0.0685</td>\n",
       "      <td>1759.0</td>\n",
       "      <td>500</td>\n",
       "      <td>0.0</td>\n",
       "      <td>0.0</td>\n",
       "      <td>0</td>\n",
       "      <td>389</td>\n",
       "      <td>211</td>\n",
       "      <td>5</td>\n",
       "      <td>...</td>\n",
       "      <td>0.0</td>\n",
       "      <td>0</td>\n",
       "      <td>0</td>\n",
       "      <td>0.0</td>\n",
       "      <td>0</td>\n",
       "      <td>0</td>\n",
       "      <td>0.0</td>\n",
       "      <td>0</td>\n",
       "      <td>0</td>\n",
       "      <td>0</td>\n",
       "    </tr>\n",
       "  </tbody>\n",
       "</table>\n",
       "<p>100 rows × 135 columns</p>\n",
       "</div>"
      ],
      "text/plain": [
       "    rep  intra_thres  init_intra_edge  init_supp_edge  fin_intra_edge  \\\n",
       "0     1       0.0685           1726.0             500             0.0   \n",
       "1     2       0.0685           1699.0             500             1.0   \n",
       "2     3       0.0685           1724.5             500             0.0   \n",
       "3     4       0.0685           1661.0             500             1.0   \n",
       "4     5       0.0685           1773.5             500             0.0   \n",
       "..  ...          ...              ...             ...             ...   \n",
       "95   96       0.0685           1714.0             500             0.0   \n",
       "96   97       0.0685           1780.5             500             1.0   \n",
       "97   98       0.0685           1747.5             500             0.0   \n",
       "98   99       0.0685           1745.0             500             1.0   \n",
       "99  100       0.0685           1759.0             500             0.0   \n",
       "\n",
       "    fin_supp_edge  alive_nodes  tot_isol_node  tot_unsupp_node  cas_steps  \\\n",
       "0             0.0            0            417              183          8   \n",
       "1             3.0            4            416              180          4   \n",
       "2             0.0            0            300              300          4   \n",
       "3             3.0            4            407              189          4   \n",
       "4             0.0            0            406              194          8   \n",
       "..            ...          ...            ...              ...        ...   \n",
       "95            0.0            0            375              225          4   \n",
       "96            3.0            4            358              238          5   \n",
       "97            0.0            0            324              276          5   \n",
       "98            3.0            4            289              307          8   \n",
       "99            0.0            0            389              211          5   \n",
       "\n",
       "    ...  step35_far_dead_node  step36_isol  step36_unsupp  \\\n",
       "0   ...                   0.0            0              0   \n",
       "1   ...                   0.0            0              0   \n",
       "2   ...                   0.0            0              0   \n",
       "3   ...                   0.0            0              0   \n",
       "4   ...                   0.0            0              0   \n",
       "..  ...                   ...          ...            ...   \n",
       "95  ...                   0.0            0              0   \n",
       "96  ...                   0.0            0              0   \n",
       "97  ...                   0.0            0              0   \n",
       "98  ...                   0.0            0              0   \n",
       "99  ...                   0.0            0              0   \n",
       "\n",
       "    step36_far_dead_node  step37_isol  step37_unsupp  step37_far_dead_node  \\\n",
       "0                    0.0            0              0                   0.0   \n",
       "1                    0.0            0              0                   0.0   \n",
       "2                    0.0            0              0                   0.0   \n",
       "3                    0.0            0              0                   0.0   \n",
       "4                    0.0            0              0                   0.0   \n",
       "..                   ...          ...            ...                   ...   \n",
       "95                   0.0            0              0                   0.0   \n",
       "96                   0.0            0              0                   0.0   \n",
       "97                   0.0            0              0                   0.0   \n",
       "98                   0.0            0              0                   0.0   \n",
       "99                   0.0            0              0                   0.0   \n",
       "\n",
       "    step38_isol  step38_unsupp  step38_far_dead_node  \n",
       "0             0              0                     0  \n",
       "1             0              0                     0  \n",
       "2             0              0                     0  \n",
       "3             0              0                     0  \n",
       "4             0              0                     0  \n",
       "..          ...            ...                   ...  \n",
       "95            0              0                     0  \n",
       "96            0              0                     0  \n",
       "97            0              0                     0  \n",
       "98            0              0                     0  \n",
       "99            0              0                     0  \n",
       "\n",
       "[100 rows x 135 columns]"
      ]
     },
     "execution_count": 7,
     "metadata": {},
     "output_type": "execute_result"
    }
   ],
   "source": [
    "buldy_RGG_200_rep100_0685_rgg_rgg_data"
   ]
  },
  {
   "cell_type": "markdown",
   "metadata": {},
   "source": [
    "# Data Dividing Done\n",
    "\n",
    "\n",
    "\n",
    "\n",
    "# -----------------------------------------------------------------------------------------------\n",
    "\n",
    "\n",
    "\n",
    "\n",
    "\n",
    "# Plotting Starts"
   ]
  },
  {
   "cell_type": "markdown",
   "metadata": {},
   "source": [
    "## buldy_RGG_50_rep100_045"
   ]
  },
  {
   "cell_type": "code",
   "execution_count": 8,
   "metadata": {},
   "outputs": [
    {
     "data": {
      "image/png": "[encoded data removed]",
      "text/plain": [
       "<Figure size 432x288 with 1 Axes>"
      ]
     },
     "metadata": {
      "needs_background": "light"
     },
     "output_type": "display_data"
    }
   ],
   "source": [
    "step_nums = []\n",
    "step_nums.append(statistics.mean(buldy_RGG_200_rep100_0685_rgg_rgg_data['cas_steps'].values.tolist()))\n",
    "step_nums.append(statistics.mean(buldy_RGG_200_rep100_0685_rgg_rand_data['cas_steps'].values.tolist()))\n",
    "step_nums.append(statistics.mean(buldy_RGG_200_rep100_0685_rand_rgg_data['cas_steps'].values.tolist()))\n",
    "step_nums.append(statistics.mean(buldy_RGG_200_rep100_0685_rand_rand_data['cas_steps'].values.tolist()))\n",
    "\n",
    "index = np.arange(4)\n",
    "graph_types = ['RGG-RGG', 'RGG-Rand', 'Rand-RGG', 'Rand-Rand']\n",
    "\n",
    "plt.bar(index, step_nums, width=0.3, color='gray')\n",
    "plt.xticks(index, graph_types)\n",
    "plt.title('Number of steps')\n",
    "plt.savefig('The number of steps.png')\n",
    "plt.show()"
   ]
  },
  {
   "cell_type": "code",
   "execution_count": 9,
   "metadata": {},
   "outputs": [],
   "source": [
    "rgg_rgg_isol = []\n",
    "rgg_rgg_unsupp = []\n",
    "rgg_rand_isol = []\n",
    "rgg_rand_unsupp = []\n",
    "rand_rgg_isol = []\n",
    "rand_rgg_unsupp = []\n",
    "rand_rand_isol = []\n",
    "rand_rand_unsupp =[]"
   ]
  },
  {
   "cell_type": "code",
   "execution_count": 10,
   "metadata": {},
   "outputs": [],
   "source": [
    "index = 1\n",
    "for col_name in buldy_RGG_200_rep100_0685_rgg_rgg_data:\n",
    "    if col_name == ('step%d_isol' % index):\n",
    "        rgg_rgg_isol.append(statistics.mean(buldy_RGG_200_rep100_0685_rgg_rgg_data[col_name].values.tolist()))\n",
    "    if col_name == ('step%d_unsupp' % index):\n",
    "        rgg_rgg_unsupp.append(statistics.mean(buldy_RGG_200_rep100_0685_rgg_rgg_data[col_name].values.tolist()))\n",
    "        index += 1\n",
    "        \n",
    "index = 1\n",
    "for col_name in buldy_RGG_200_rep100_0685_rgg_rand_data:\n",
    "    if col_name == ('step%d_isol' % index):\n",
    "        rgg_rand_isol.append(statistics.mean(buldy_RGG_200_rep100_0685_rgg_rand_data[col_name].values.tolist()))\n",
    "    if col_name == ('step%d_unsupp' % index):\n",
    "        rgg_rand_unsupp.append(statistics.mean(buldy_RGG_200_rep100_0685_rgg_rand_data[col_name].values.tolist()))\n",
    "        index += 1\n",
    "        \n",
    "index = 1\n",
    "for col_name in buldy_RGG_200_rep100_0685_rand_rgg_data:\n",
    "    if col_name == ('step%d_isol' % index):\n",
    "        rand_rgg_isol.append(statistics.mean(buldy_RGG_200_rep100_0685_rand_rgg_data[col_name].values.tolist()))\n",
    "    if col_name == ('step%d_unsupp' % index):\n",
    "        rand_rgg_unsupp.append(statistics.mean(buldy_RGG_200_rep100_0685_rand_rgg_data[col_name].values.tolist()))\n",
    "        index += 1\n",
    "        \n",
    "index = 1\n",
    "for col_name in buldy_RGG_200_rep100_0685_rand_rand_data:\n",
    "    if col_name == ('step%d_isol' % index):\n",
    "        rand_rand_isol.append(statistics.mean(buldy_RGG_200_rep100_0685_rand_rand_data[col_name].values.tolist()))\n",
    "    if col_name == ('step%d_unsupp' % index):\n",
    "        rand_rand_unsupp.append(statistics.mean(buldy_RGG_200_rep100_0685_rand_rand_data[col_name].values.tolist()))\n",
    "        index += 1"
   ]
  },
  {
   "cell_type": "code",
   "execution_count": 11,
   "metadata": {},
   "outputs": [
    {
     "name": "stdout",
     "output_type": "stream",
     "text": [
      "38\n",
      "38\n",
      "38\n",
      "38\n",
      "38\n",
      "38\n",
      "38\n",
      "38\n"
     ]
    }
   ],
   "source": [
    "print(len(rgg_rgg_isol))\n",
    "print(len(rgg_rgg_unsupp))\n",
    "print(len(rgg_rand_isol))\n",
    "print(len(rgg_rand_unsupp))\n",
    "print(len(rand_rgg_isol))\n",
    "print(len(rand_rgg_unsupp))\n",
    "print(len(rand_rand_isol))\n",
    "print(len(rand_rand_unsupp))"
   ]
  },
  {
   "cell_type": "code",
   "execution_count": 12,
   "metadata": {},
   "outputs": [],
   "source": [
    "cum_rgg_rgg_isol = []\n",
    "cum_rgg_rgg_unsupp = []\n",
    "cum_rgg_rand_isol = []\n",
    "cum_rgg_rand_unsupp = []\n",
    "cum_rand_rgg_isol = []\n",
    "cum_rand_rgg_unsupp = []\n",
    "cum_rand_rand_isol = []\n",
    "cum_rand_rand_unsupp = []\n",
    "\n",
    "total = []\n",
    "for i in range(len(rgg_rgg_isol)):\n",
    "    if i == 0:\n",
    "        total.append(rgg_rgg_isol[i])\n",
    "        total.append(rgg_rgg_unsupp[i])\n",
    "    else:\n",
    "        total[0] += rgg_rgg_isol[i]\n",
    "        total[1] += rgg_rgg_unsupp[i]\n",
    "    cum_rgg_rgg_isol.append(total[0])\n",
    "    cum_rgg_rgg_unsupp.append(total[1])\n",
    "    \n",
    "total = []\n",
    "for i in range(len(rgg_rand_isol)):\n",
    "    if i == 0:\n",
    "        total.append(rgg_rand_isol[i])\n",
    "        total.append(rgg_rand_unsupp[i])\n",
    "    else:\n",
    "        total[0] += rgg_rand_isol[i]\n",
    "        total[1] += rgg_rand_unsupp[i]\n",
    "    cum_rgg_rand_isol.append(total[0])\n",
    "    cum_rgg_rand_unsupp.append(total[1])\n",
    "    \n",
    "total = []\n",
    "for i in range(len(rand_rgg_isol)):\n",
    "    if i == 0:\n",
    "        total.append(rand_rgg_isol[i])\n",
    "        total.append(rand_rgg_unsupp[i])\n",
    "    else:\n",
    "        total[0] += rand_rgg_isol[i]\n",
    "        total[1] += rand_rgg_unsupp[i]\n",
    "    cum_rand_rgg_isol.append(total[0])\n",
    "    cum_rand_rgg_unsupp.append(total[1])\n",
    "    \n",
    "total = []\n",
    "for i in range(len(rand_rand_isol)):\n",
    "    if i == 0:\n",
    "        total.append(rand_rand_isol[i])\n",
    "        total.append(rand_rand_unsupp[i])\n",
    "    else:\n",
    "        total[0] += rand_rand_isol[i]\n",
    "        total[1] += rand_rand_unsupp[i]\n",
    "    cum_rand_rand_isol.append(total[0])\n",
    "    cum_rand_rand_unsupp.append(total[1])"
   ]
  },
  {
   "cell_type": "markdown",
   "metadata": {},
   "source": [
    "## Isolation vs Unsupport"
   ]
  },
  {
   "cell_type": "code",
   "execution_count": 13,
   "metadata": {},
   "outputs": [
    {
     "data": {
      "image/png": "[encoded data removed]",
      "text/plain": [
       "<Figure size 432x288 with 1 Axes>"
      ]
     },
     "metadata": {
      "needs_background": "light"
     },
     "output_type": "display_data"
    }
   ],
   "source": [
    "plt.plot(range(len(cum_rgg_rgg_isol)), cum_rgg_rgg_isol)\n",
    "plt.plot(range(len(cum_rgg_rgg_isol)), cum_rgg_rgg_unsupp)\n",
    "plt.legend(['rgg_rgg_isol','rgg_rgg_unsupp'])\n",
    "plt.title('Isolation vs Unsupport: RGG-RGG')\n",
    "plt.savefig('Isolation vs Unsupport_RGG-RGG.png')\n",
    "plt.show()"
   ]
  },
  {
   "cell_type": "code",
   "execution_count": 14,
   "metadata": {},
   "outputs": [
    {
     "data": {
      "image/png": "[encoded data removed]",
      "text/plain": [
       "<Figure size 432x288 with 1 Axes>"
      ]
     },
     "metadata": {
      "needs_background": "light"
     },
     "output_type": "display_data"
    }
   ],
   "source": [
    "plt.plot(range(len(cum_rgg_rand_isol)), cum_rgg_rand_isol)\n",
    "plt.plot(range(len(cum_rgg_rand_isol)), cum_rgg_rand_unsupp)\n",
    "plt.legend(['rgg_rand_isol','rgg_rand_unsupp'])\n",
    "plt.title('Isolation vs Unsupport: RGG-Rand')\n",
    "plt.savefig('Isolation vs Unsupport_RGG-Rand.png')\n",
    "plt.show()"
   ]
  },
  {
   "cell_type": "code",
   "execution_count": 15,
   "metadata": {},
   "outputs": [
    {
     "data": {
      "image/png": "[encoded data removed]",
      "text/plain": [
       "<Figure size 432x288 with 1 Axes>"
      ]
     },
     "metadata": {
      "needs_background": "light"
     },
     "output_type": "display_data"
    }
   ],
   "source": [
    "plt.plot(range(len(cum_rand_rgg_isol)), cum_rand_rgg_isol)\n",
    "plt.plot(range(len(cum_rand_rgg_isol)), cum_rand_rgg_unsupp)\n",
    "plt.legend(['rand_rgg_isol','rand_rgg_unsupp'])\n",
    "plt.title('Isolation vs Unsupport: Rand-RGG')\n",
    "plt.savefig('Isolation vs Unsupport_Rand-RGG.png')\n",
    "plt.show()"
   ]
  },
  {
   "cell_type": "code",
   "execution_count": 16,
   "metadata": {},
   "outputs": [
    {
     "data": {
      "image/png": "[encoded data removed]",
      "text/plain": [
       "<Figure size 432x288 with 1 Axes>"
      ]
     },
     "metadata": {
      "needs_background": "light"
     },
     "output_type": "display_data"
    }
   ],
   "source": [
    "plt.plot(range(len(cum_rand_rand_isol)), cum_rand_rand_isol)\n",
    "plt.plot(range(len(cum_rand_rand_isol)), cum_rand_rand_unsupp)\n",
    "plt.legend(['rand_rand_isol','rand_rand_unsupp'])\n",
    "plt.title('Isolation vs Unsupport: Rand-Rand')\n",
    "plt.savefig('Isolation vs Unsupport_Rand-Rand.png')\n",
    "plt.show()"
   ]
  },
  {
   "cell_type": "code",
   "execution_count": 17,
   "metadata": {},
   "outputs": [],
   "source": [
    "df_len = []\n",
    "\n",
    "df_len.append(list(rgg_rgg_isol))\n",
    "df_len.append(list(rgg_rand_isol))\n",
    "df_len.append(list(rand_rgg_isol))\n",
    "df_len.append(list(rand_rand_isol))\n",
    "\n",
    "max_df_len = max(df_len, key=len)\n",
    "\n",
    "x_val = list(range(len(max_df_len)))"
   ]
  },
  {
   "cell_type": "code",
   "execution_count": 18,
   "metadata": {},
   "outputs": [],
   "source": [
    "proc_isol = []\n",
    "proc_unsupp = []\n",
    "\n",
    "proc_isol.append(cum_rgg_rgg_isol)\n",
    "proc_isol.append(cum_rgg_rand_isol)\n",
    "proc_isol.append(cum_rand_rgg_isol)\n",
    "proc_isol.append(cum_rand_rand_isol)\n",
    "\n",
    "proc_unsupp.append(cum_rgg_rgg_unsupp)\n",
    "proc_unsupp.append(cum_rgg_rand_unsupp)\n",
    "proc_unsupp.append(cum_rand_rgg_unsupp)\n",
    "proc_unsupp.append(cum_rand_rand_unsupp)\n",
    "\n",
    "for x in x_val:\n",
    "    if len(rgg_rgg_isol) <= x:\n",
    "        proc_isol[0].append(cum_rgg_rgg_isol[len(rgg_rgg_isol) - 1])\n",
    "        proc_unsupp[0].append(cum_rgg_rgg_unsupp[len(rgg_rgg_isol) - 1])\n",
    "    if len(rgg_rand_isol) <= x:\n",
    "        proc_isol[1].append(cum_rgg_rand_isol[len(rgg_rand_isol) - 1])\n",
    "        proc_unsupp[1].append(cum_rgg_rand_unsupp[len(rgg_rand_isol) - 1])\n",
    "    if len(rand_rgg_isol) <= x:\n",
    "        proc_isol[2].append(cum_rand_rgg_isol[len(rand_rgg_isol) - 1])\n",
    "        proc_unsupp[2].append(cum_rand_rgg_unsupp[len(rand_rgg_isol) - 1])\n",
    "    if len(rand_rand_isol) <= x:\n",
    "        proc_isol[3].append(cum_rand_rand_isol[len(rand_rand_isol) - 1])\n",
    "        proc_unsupp[3].append(cum_rand_rand_unsupp[len(rand_rand_isol) - 1])"
   ]
  },
  {
   "cell_type": "code",
   "execution_count": 21,
   "metadata": {},
   "outputs": [
    {
     "data": {
      "image/png": "[encoded data removed]",
      "text/plain": [
       "<Figure size 432x288 with 1 Axes>"
      ]
     },
     "metadata": {
      "needs_background": "light"
     },
     "output_type": "display_data"
    }
   ],
   "source": [
    "plt.plot(x_val, proc_isol[2])\n",
    "plt.plot(x_val, proc_isol[3])\n",
    "plt.legend(['ER_Spatial', 'ER_Random'])\n",
    "plt.title('Isolation trend')\n",
    "plt.ylabel('Dead nodes')\n",
    "plt.xlabel('Steps')\n",
    "plt.savefig('intra_rand_isolation.png')\n",
    "plt.show()"
   ]
  },
  {
   "cell_type": "code",
   "execution_count": 22,
   "metadata": {},
   "outputs": [
    {
     "data": {
      "image/png": "[encoded data removed]",
      "text/plain": [
       "<Figure size 432x288 with 1 Axes>"
      ]
     },
     "metadata": {
      "needs_background": "light"
     },
     "output_type": "display_data"
    }
   ],
   "source": [
    "plt.plot(x_val, proc_unsupp[2])\n",
    "plt.plot(x_val, proc_unsupp[3])\n",
    "plt.legend(['ER_Spatial', 'ER_Random'])\n",
    "plt.title('Unsupport trend')\n",
    "plt.ylabel('Dead nodes')\n",
    "plt.xlabel('Steps')\n",
    "plt.savefig('intra_rand_unsupp_trend')\n",
    "plt.show()"
   ]
  },
  {
   "cell_type": "markdown",
   "metadata": {},
   "source": [
    "## Pie Chart"
   ]
  },
  {
   "cell_type": "code",
   "execution_count": 8,
   "metadata": {},
   "outputs": [],
   "source": [
    "init_death = 150\n",
    "labels = ['Alive nodes', 'Initial death', 'Dead nodes from isolation', 'Dead nodes from unsupport']\n",
    "\n",
    "alive = []\n",
    "alive.append(statistics.mean(buldy_RGG_200_rep100_0685_rgg_rgg_data['alive_nodes']))\n",
    "alive.append(statistics.mean(buldy_RGG_200_rep100_0685_rgg_rand_data['alive_nodes']))\n",
    "alive.append(statistics.mean(buldy_RGG_200_rep100_0685_rand_rgg_data['alive_nodes']))\n",
    "alive.append(statistics.mean(buldy_RGG_200_rep100_0685_rand_rand_data['alive_nodes']))\n",
    "\n",
    "tot_isol = []\n",
    "tot_isol.append(statistics.mean(buldy_RGG_200_rep100_0685_rgg_rgg_data['tot_isol_node']))\n",
    "tot_isol.append(statistics.mean(buldy_RGG_200_rep100_0685_rgg_rand_data['tot_isol_node']))\n",
    "tot_isol.append(statistics.mean(buldy_RGG_200_rep100_0685_rand_rgg_data['tot_isol_node']))\n",
    "tot_isol.append(statistics.mean(buldy_RGG_200_rep100_0685_rand_rand_data['tot_isol_node']))\n",
    "\n",
    "tot_unsupp = []\n",
    "tot_unsupp.append(statistics.mean(buldy_RGG_200_rep100_0685_rgg_rgg_data['tot_unsupp_node']))\n",
    "tot_unsupp.append(statistics.mean(buldy_RGG_200_rep100_0685_rgg_rand_data['tot_unsupp_node']))\n",
    "tot_unsupp.append(statistics.mean(buldy_RGG_200_rep100_0685_rand_rgg_data['tot_unsupp_node']))\n",
    "tot_unsupp.append(statistics.mean(buldy_RGG_200_rep100_0685_rand_rand_data['tot_unsupp_node']))"
   ]
  },
  {
   "cell_type": "code",
   "execution_count": 24,
   "metadata": {},
   "outputs": [
    {
     "data": {
      "image/png": "[encoded data removed]",
      "text/plain": [
       "<Figure size 432x288 with 1 Axes>"
      ]
     },
     "metadata": {},
     "output_type": "display_data"
    }
   ],
   "source": [
    "deaths = [alive[0], init_death, tot_isol[0], tot_unsupp[0]]\n",
    "\n",
    "plt.pie(deaths, labels=labels, autopct='%.1f%%')\n",
    "plt.title('RGG-RGG death trend')\n",
    "plt.savefig('RGG_RGG death trend pie.png')\n",
    "plt.show()"
   ]
  },
  {
   "cell_type": "code",
   "execution_count": 25,
   "metadata": {},
   "outputs": [
    {
     "data": {
      "image/png": "[encoded data removed]",
      "text/plain": [
       "<Figure size 432x288 with 1 Axes>"
      ]
     },
     "metadata": {},
     "output_type": "display_data"
    }
   ],
   "source": [
    "deaths = [alive[1], init_death, tot_isol[1], tot_unsupp[1]]\n",
    "\n",
    "plt.pie(deaths, labels=labels, autopct='%.1f%%')\n",
    "plt.title('RGG-Rand death trend')\n",
    "plt.savefig('RGG_Rand death trend pie.png')\n",
    "plt.show()"
   ]
  },
  {
   "cell_type": "code",
   "execution_count": 26,
   "metadata": {},
   "outputs": [
    {
     "data": {
      "image/png": "[encoded data removed]",
      "text/plain": [
       "<Figure size 432x288 with 1 Axes>"
      ]
     },
     "metadata": {},
     "output_type": "display_data"
    }
   ],
   "source": [
    "deaths = [alive[2], init_death, tot_isol[2], tot_unsupp[2]]\n",
    "\n",
    "plt.pie(deaths, labels=labels, autopct='%.1f%%')\n",
    "plt.title('Rand-RGG death trend')\n",
    "plt.savefig('Rand_RGG death trend pie.png')\n",
    "plt.show()"
   ]
  },
  {
   "cell_type": "code",
   "execution_count": 9,
   "metadata": {},
   "outputs": [
    {
     "data": {
      "image/png": "[encoded data removed]",
      "text/plain": [
       "<Figure size 432x288 with 1 Axes>"
      ]
     },
     "metadata": {},
     "output_type": "display_data"
    }
   ],
   "source": [
    "deaths = [tot_isol[2], tot_unsupp[2]]\n",
    "\n",
    "plt.pie(deaths, labels=['Dead from isolatoin', 'Dead from unsupport'], autopct='%.1f%%')\n",
    "plt.title('ER-Spatial death trend')\n",
    "plt.savefig('Rand_RGG death trend pie_real deaths.png')\n",
    "plt.show()"
   ]
  },
  {
   "cell_type": "code",
   "execution_count": 28,
   "metadata": {},
   "outputs": [
    {
     "data": {
      "image/png": "[encoded data removed]",
      "text/plain": [
       "<Figure size 432x288 with 1 Axes>"
      ]
     },
     "metadata": {},
     "output_type": "display_data"
    }
   ],
   "source": [
    "deaths = [alive[3], init_death, tot_isol[3], tot_unsupp[3]]\n",
    "\n",
    "plt.pie(deaths, labels=labels, autopct='%.1f%%')\n",
    "plt.title('Rand-Rand death trend')\n",
    "plt.savefig('Rand_Rand death trend pie.png')\n",
    "plt.show()"
   ]
  },
  {
   "cell_type": "code",
   "execution_count": 10,
   "metadata": {},
   "outputs": [
    {
     "data": {
      "image/png": "[encoded data removed]",
      "text/plain": [
       "<Figure size 432x288 with 1 Axes>"
      ]
     },
     "metadata": {},
     "output_type": "display_data"
    }
   ],
   "source": [
    "deaths = [tot_isol[3], tot_unsupp[3]]\n",
    "\n",
    "plt.pie(deaths, labels=['Dead from isolatoin', 'Dead from unsupport'], autopct='%.1f%%')\n",
    "plt.title('ER-Random death trend')\n",
    "plt.savefig('Rand_Rand death trend pie_real deaths.png')\n",
    "plt.show()"
   ]
  },
  {
   "cell_type": "code",
   "execution_count": 30,
   "metadata": {},
   "outputs": [
    {
     "data": {
      "image/png": "[encoded data removed]",
      "text/plain": [
       "<Figure size 432x288 with 1 Axes>"
      ]
     },
     "metadata": {
      "needs_background": "light"
     },
     "output_type": "display_data"
    }
   ],
   "source": [
    "step_nums = []\n",
    "step_nums.append(statistics.mean(buldy_RGG_200_rep100_0685_rgg_rgg_data['init_larg_comp'].values.tolist()))\n",
    "step_nums.append(statistics.mean(buldy_RGG_200_rep100_0685_rgg_rand_data['init_larg_comp'].values.tolist()))\n",
    "step_nums.append(statistics.mean(buldy_RGG_200_rep100_0685_rand_rgg_data['init_larg_comp'].values.tolist()))\n",
    "step_nums.append(statistics.mean(buldy_RGG_200_rep100_0685_rand_rand_data['init_larg_comp'].values.tolist()))\n",
    "\n",
    "index = np.arange(4)\n",
    "graph_types = ['RGG-Spatial', 'RGG-Random', 'ER-Spatial', 'ER-Random']\n",
    "\n",
    "plt.bar(index, step_nums, width=0.3, color='gray')\n",
    "plt.xticks(index, graph_types)\n",
    "plt.title('The size of the initial largest components')\n",
    "plt.savefig('The size of the initial largest components.png')\n",
    "plt.show()"
   ]
  },
  {
   "cell_type": "markdown",
   "metadata": {},
   "source": [
    "## Compute the number of nodes"
   ]
  },
  {
   "cell_type": "code",
   "execution_count": 27,
   "metadata": {},
   "outputs": [
    {
     "data": {
      "image/png": "[encoded data removed]",
      "text/plain": [
       "<Figure size 432x288 with 1 Axes>"
      ]
     },
     "metadata": {
      "needs_background": "light"
     },
     "output_type": "display_data"
    }
   ],
   "source": [
    "x_val = np.arange(4)\n",
    "labels = ['initial', 'final']\n",
    "\n",
    "plt.bar(x_val, alive)\n",
    "plt.xticks(x_val, graph_types)\n",
    "plt.title('Alive nodes')\n",
    "plt.savefig('alive nodes.png')\n",
    "plt.show()"
   ]
  },
  {
   "cell_type": "markdown",
   "metadata": {},
   "source": [
    "## Compare the number of edges"
   ]
  },
  {
   "cell_type": "code",
   "execution_count": 32,
   "metadata": {},
   "outputs": [],
   "source": [
    "init_intra = []\n",
    "init_intra.append(statistics.mean(buldy_RGG_200_rep100_0685_rgg_rgg_data['init_intra_edge']))\n",
    "init_intra.append(statistics.mean(buldy_RGG_200_rep100_0685_rgg_rand_data['init_intra_edge']))\n",
    "init_intra.append(statistics.mean(buldy_RGG_200_rep100_0685_rand_rgg_data['init_intra_edge']))\n",
    "init_intra.append(statistics.mean(buldy_RGG_200_rep100_0685_rand_rand_data['init_intra_edge']))\n",
    "\n",
    "init_supp = []\n",
    "init_supp.append(statistics.mean(buldy_RGG_200_rep100_0685_rgg_rgg_data['init_supp_edge']))\n",
    "init_supp.append(statistics.mean(buldy_RGG_200_rep100_0685_rgg_rand_data['init_supp_edge']))\n",
    "init_supp.append(statistics.mean(buldy_RGG_200_rep100_0685_rand_rgg_data['init_supp_edge']))\n",
    "init_supp.append(statistics.mean(buldy_RGG_200_rep100_0685_rand_rand_data['init_supp_edge']))\n",
    "\n",
    "fin_intra = []\n",
    "fin_intra.append(statistics.mean(buldy_RGG_200_rep100_0685_rgg_rgg_data['fin_intra_edge']))\n",
    "fin_intra.append(statistics.mean(buldy_RGG_200_rep100_0685_rgg_rand_data['fin_intra_edge']))\n",
    "fin_intra.append(statistics.mean(buldy_RGG_200_rep100_0685_rand_rgg_data['fin_intra_edge']))\n",
    "fin_intra.append(statistics.mean(buldy_RGG_200_rep100_0685_rand_rand_data['fin_intra_edge']))\n",
    "\n",
    "fin_supp = []\n",
    "fin_supp.append(statistics.mean(buldy_RGG_200_rep100_0685_rgg_rgg_data['fin_supp_edge']))\n",
    "fin_supp.append(statistics.mean(buldy_RGG_200_rep100_0685_rgg_rand_data['fin_supp_edge']))\n",
    "fin_supp.append(statistics.mean(buldy_RGG_200_rep100_0685_rand_rgg_data['fin_supp_edge']))\n",
    "fin_supp.append(statistics.mean(buldy_RGG_200_rep100_0685_rand_rand_data['fin_supp_edge']))"
   ]
  },
  {
   "cell_type": "code",
   "execution_count": 33,
   "metadata": {},
   "outputs": [
    {
     "data": {
      "image/png": "[encoded data removed]",
      "text/plain": [
       "<Figure size 432x288 with 1 Axes>"
      ]
     },
     "metadata": {
      "needs_background": "light"
     },
     "output_type": "display_data"
    }
   ],
   "source": [
    "plt.bar(x_val-0.1, init_intra, width=0.2)\n",
    "plt.bar(x_val+0.1, fin_intra, width=0.2)\n",
    "plt.legend(labels)\n",
    "plt.xticks(x_val, graph_types)\n",
    "plt.title('Initial_intra_edge vs Final_intra_edge')\n",
    "plt.show()"
   ]
  },
  {
   "cell_type": "code",
   "execution_count": 34,
   "metadata": {},
   "outputs": [
    {
     "data": {
      "image/png": "[encoded data removed]",
      "text/plain": [
       "<Figure size 432x288 with 1 Axes>"
      ]
     },
     "metadata": {
      "needs_background": "light"
     },
     "output_type": "display_data"
    }
   ],
   "source": [
    "plt.bar(x_val-0.1, init_supp, width=0.2)\n",
    "plt.bar(x_val+0.1, fin_supp, width=0.2)\n",
    "plt.legend(labels)\n",
    "plt.xticks(x_val, graph_types)\n",
    "plt.title('Initial_support_edge vs Final_support_edge')\n",
    "plt.show()"
   ]
  },
  {
   "cell_type": "markdown",
   "metadata": {},
   "source": [
    "## Network Analysis"
   ]
  },
  {
   "cell_type": "code",
   "execution_count": 11,
   "metadata": {},
   "outputs": [],
   "source": [
    "alive_cases = []\n",
    "\n",
    "rgg_rgg_alive = 0\n",
    "rgg_rand_alive = 0\n",
    "rand_rgg_alive = 0\n",
    "rand_rand_alive = 0\n",
    "for i in range(100):\n",
    "    if buldy_RGG_200_rep100_0685_rgg_rgg_data['alive_nodes'][i] != 0:\n",
    "        rgg_rgg_alive += 1\n",
    "    if buldy_RGG_200_rep100_0685_rgg_rand_data['alive_nodes'][i] != 0:\n",
    "        rgg_rand_alive += 1\n",
    "    if buldy_RGG_200_rep100_0685_rand_rgg_data['alive_nodes'][i] != 0:\n",
    "        rand_rgg_alive += 1\n",
    "    if buldy_RGG_200_rep100_0685_rand_rand_data['alive_nodes'][i] != 0:\n",
    "        rand_rand_alive += 1\n",
    "        \n",
    "alive_cases = [rgg_rgg_alive, rgg_rand_alive, rand_rgg_alive, rand_rand_alive]"
   ]
  },
  {
   "cell_type": "code",
   "execution_count": 12,
   "metadata": {},
   "outputs": [
    {
     "data": {
      "text/plain": [
       "[23, 7, 41, 85]"
      ]
     },
     "execution_count": 12,
     "metadata": {},
     "output_type": "execute_result"
    }
   ],
   "source": [
    "alive_cases"
   ]
  },
  {
   "cell_type": "code",
   "execution_count": 37,
   "metadata": {},
   "outputs": [],
   "source": [
    "init_far = []\n",
    "init_far.append(statistics.mean(buldy_RGG_200_rep100_0685_rgg_rgg_data['init_far_node']))\n",
    "init_far.append(statistics.mean(buldy_RGG_200_rep100_0685_rgg_rand_data['init_far_node']))\n",
    "init_far.append(statistics.mean(buldy_RGG_200_rep100_0685_rand_rgg_data['init_far_node']))\n",
    "init_far.append(statistics.mean(buldy_RGG_200_rep100_0685_rand_rand_data['init_far_node']))\n",
    "\n",
    "fin_far = []\n",
    "fin_far.append(statistics.mean(buldy_RGG_200_rep100_0685_rgg_rgg_data['fin_far_node']))\n",
    "fin_far.append(statistics.mean(buldy_RGG_200_rep100_0685_rgg_rand_data['fin_far_node']))\n",
    "fin_far.append(statistics.mean(buldy_RGG_200_rep100_0685_rand_rgg_data['fin_far_node']))\n",
    "fin_far.append(statistics.mean(buldy_RGG_200_rep100_0685_rand_rand_data['fin_far_node']))"
   ]
  },
  {
   "cell_type": "code",
   "execution_count": 38,
   "metadata": {},
   "outputs": [
    {
     "data": {
      "image/png": "[encoded data removed]",
      "text/plain": [
       "<Figure size 432x288 with 1 Axes>"
      ]
     },
     "metadata": {
      "needs_background": "light"
     },
     "output_type": "display_data"
    }
   ],
   "source": [
    "plt.bar(x_val-0.1, init_far, width=0.2)\n",
    "plt.bar(x_val+0.1, fin_far, width=0.2)\n",
    "plt.legend(labels)\n",
    "plt.xticks(x_val, graph_types)\n",
    "plt.title('Initial_far_node vs Final_far_node')\n",
    "plt.show()"
   ]
  },
  {
   "cell_type": "code",
   "execution_count": 28,
   "metadata": {},
   "outputs": [],
   "source": [
    "init_clust = []\n",
    "init_clust.append(statistics.mean(buldy_RGG_200_rep100_0685_rgg_rgg_data['init_clust']))\n",
    "init_clust.append(statistics.mean(buldy_RGG_200_rep100_0685_rgg_rand_data['init_clust']))\n",
    "init_clust.append(statistics.mean(buldy_RGG_200_rep100_0685_rand_rgg_data['init_clust']))\n",
    "init_clust.append(statistics.mean(buldy_RGG_200_rep100_0685_rand_rand_data['init_clust']))\n",
    "\n",
    "fin_clust = []\n",
    "fin_clust.append(sum(buldy_RGG_200_rep100_0685_rgg_rgg_data['fin_clust']) / alive_cases[0])\n",
    "fin_clust.append(sum(buldy_RGG_200_rep100_0685_rgg_rand_data['fin_clust']) / alive_cases[1])\n",
    "fin_clust.append(sum(buldy_RGG_200_rep100_0685_rand_rgg_data['fin_clust']) / alive_cases[2])\n",
    "fin_clust.append(sum(buldy_RGG_200_rep100_0685_rand_rand_data['fin_clust']) / alive_cases[3])"
   ]
  },
  {
   "cell_type": "code",
   "execution_count": 31,
   "metadata": {},
   "outputs": [
    {
     "data": {
      "image/png": "[encoded data removed]",
      "text/plain": [
       "<Figure size 432x288 with 1 Axes>"
      ]
     },
     "metadata": {
      "needs_background": "light"
     },
     "output_type": "display_data"
    }
   ],
   "source": [
    "plt.bar(x_val-0.1, init_clust, width=0.2)\n",
    "plt.bar(x_val+0.1, fin_clust, width=0.2)\n",
    "plt.legend(labels)\n",
    "plt.xticks(x_val, graph_types)\n",
    "plt.title('Initial_clustering_coefficient vs Final_clustering_coefficient')\n",
    "plt.savefig('init_clust_vs_fin_clust.png')\n",
    "plt.show()"
   ]
  },
  {
   "cell_type": "code",
   "execution_count": null,
   "metadata": {},
   "outputs": [],
   "source": []
  },
  {
   "cell_type": "code",
   "execution_count": null,
   "metadata": {},
   "outputs": [],
   "source": []
  },
  {
   "cell_type": "code",
   "execution_count": 41,
   "metadata": {},
   "outputs": [],
   "source": [
    "init_mean_deg = []\n",
    "init_mean_deg.append(statistics.mean(buldy_RGG_200_rep100_0685_rgg_rgg_data['init_mean_deg']))\n",
    "init_mean_deg.append(statistics.mean(buldy_RGG_200_rep100_0685_rgg_rand_data['init_mean_deg']))\n",
    "init_mean_deg.append(statistics.mean(buldy_RGG_200_rep100_0685_rand_rgg_data['init_mean_deg']))\n",
    "init_mean_deg.append(statistics.mean(buldy_RGG_200_rep100_0685_rand_rand_data['init_mean_deg']))\n",
    "\n",
    "fin_mean_deg = []\n",
    "fin_mean_deg.append(statistics.mean(buldy_RGG_200_rep100_0685_rgg_rgg_data['fin_mean_deg']))\n",
    "fin_mean_deg.append(statistics.mean(buldy_RGG_200_rep100_0685_rgg_rand_data['fin_mean_deg']))\n",
    "fin_mean_deg.append(statistics.mean(buldy_RGG_200_rep100_0685_rand_rgg_data['fin_mean_deg']))\n",
    "fin_mean_deg.append(statistics.mean(buldy_RGG_200_rep100_0685_rand_rand_data['fin_mean_deg']))"
   ]
  },
  {
   "cell_type": "code",
   "execution_count": 42,
   "metadata": {},
   "outputs": [
    {
     "data": {
      "image/png": "[encoded data removed]",
      "text/plain": [
       "<Figure size 432x288 with 1 Axes>"
      ]
     },
     "metadata": {
      "needs_background": "light"
     },
     "output_type": "display_data"
    }
   ],
   "source": [
    "plt.bar(x_val-0.1, init_mean_deg, width=0.2)\n",
    "plt.bar(x_val+0.1, fin_mean_deg, width=0.2)\n",
    "plt.legend(labels)\n",
    "plt.xticks(x_val, graph_types)\n",
    "plt.title('Initial_mean_degree vs Final_mean_degree')\n",
    "plt.show()"
   ]
  },
  {
   "cell_type": "code",
   "execution_count": 43,
   "metadata": {},
   "outputs": [],
   "source": [
    "init_larg_comp = []\n",
    "init_larg_comp.append(statistics.mean(buldy_RGG_200_rep100_0685_rgg_rgg_data['init_larg_comp']))\n",
    "init_larg_comp.append(statistics.mean(buldy_RGG_200_rep100_0685_rgg_rand_data['init_larg_comp']))\n",
    "init_larg_comp.append(statistics.mean(buldy_RGG_200_rep100_0685_rand_rgg_data['init_larg_comp']))\n",
    "init_larg_comp.append(statistics.mean(buldy_RGG_200_rep100_0685_rand_rand_data['init_larg_comp']))\n",
    "\n",
    "fin_larg_comp = []\n",
    "fin_larg_comp.append(statistics.mean(buldy_RGG_200_rep100_0685_rgg_rgg_data['fin_larg_comp']))\n",
    "fin_larg_comp.append(statistics.mean(buldy_RGG_200_rep100_0685_rgg_rand_data['fin_larg_comp']))\n",
    "fin_larg_comp.append(statistics.mean(buldy_RGG_200_rep100_0685_rand_rgg_data['fin_larg_comp']))\n",
    "fin_larg_comp.append(statistics.mean(buldy_RGG_200_rep100_0685_rand_rand_data['fin_larg_comp']))"
   ]
  },
  {
   "cell_type": "code",
   "execution_count": 44,
   "metadata": {},
   "outputs": [
    {
     "data": {
      "image/png": "[encoded data removed]",
      "text/plain": [
       "<Figure size 432x288 with 1 Axes>"
      ]
     },
     "metadata": {
      "needs_background": "light"
     },
     "output_type": "display_data"
    }
   ],
   "source": [
    "plt.bar(x_val-0.1, init_larg_comp, width=0.2)\n",
    "plt.bar(x_val+0.1, fin_larg_comp, width=0.2)\n",
    "plt.legend(labels)\n",
    "plt.xticks(x_val, graph_types)\n",
    "plt.title('Initial_largest_component_size vs Final_largest_component_size')\n",
    "plt.show()"
   ]
  },
  {
   "cell_type": "code",
   "execution_count": 45,
   "metadata": {},
   "outputs": [],
   "source": [
    "deg_assort = []\n",
    "\n",
    "a = buldy_RGG_200_rep100_0685_rgg_rgg_data['deg_assort'].fillna(0)\n",
    "b = buldy_RGG_200_rep100_0685_rgg_rand_data['deg_assort'].fillna(0)\n",
    "c = buldy_RGG_200_rep100_0685_rand_rgg_data['deg_assort'].fillna(0)\n",
    "d = buldy_RGG_200_rep100_0685_rand_rand_data['deg_assort'].fillna(0)\n",
    "\n",
    "deg_assort.append(statistics.mean(a))\n",
    "deg_assort.append(statistics.mean(b))\n",
    "deg_assort.append(statistics.mean(c))\n",
    "deg_assort.append(statistics.mean(d))"
   ]
  },
  {
   "cell_type": "code",
   "execution_count": 46,
   "metadata": {},
   "outputs": [
    {
     "data": {
      "image/png": "[encoded data removed]",
      "text/plain": [
       "<Figure size 432x288 with 1 Axes>"
      ]
     },
     "metadata": {
      "needs_background": "light"
     },
     "output_type": "display_data"
    }
   ],
   "source": [
    "plt.bar(x_val, deg_assort)\n",
    "plt.xticks(x_val, graph_types)\n",
    "plt.title('Degree Assortativity')\n",
    "plt.show()"
   ]
  },
  {
   "cell_type": "code",
   "execution_count": 47,
   "metadata": {},
   "outputs": [],
   "source": [
    "dist_deg_cent = []\n",
    "dist_deg_cent.append(statistics.mean(buldy_RGG_200_rep100_0685_rgg_rgg_data['dist_deg_cent']))\n",
    "dist_deg_cent.append(statistics.mean(buldy_RGG_200_rep100_0685_rgg_rand_data['dist_deg_cent']))\n",
    "dist_deg_cent.append(statistics.mean(buldy_RGG_200_rep100_0685_rand_rgg_data['dist_deg_cent']))\n",
    "dist_deg_cent.append(statistics.mean(buldy_RGG_200_rep100_0685_rand_rand_data['dist_deg_cent']))"
   ]
  },
  {
   "cell_type": "code",
   "execution_count": 48,
   "metadata": {},
   "outputs": [
    {
     "data": {
      "image/png": "[encoded data removed]",
      "text/plain": [
       "<Figure size 432x288 with 1 Axes>"
      ]
     },
     "metadata": {
      "needs_background": "light"
     },
     "output_type": "display_data"
    }
   ],
   "source": [
    "plt.bar(x_val, dist_deg_cent)\n",
    "plt.xticks(x_val, graph_types)\n",
    "plt.title('Distance to degree centre from the attack point')\n",
    "plt.show()"
   ]
  },
  {
   "cell_type": "code",
   "execution_count": 49,
   "metadata": {},
   "outputs": [],
   "source": [
    "dist_deg_cent = []\n",
    "dist_deg_cent.append(sum(buldy_RGG_200_rep100_0685_rgg_rgg_data['dist_deg_cent']) / alive_cases[0])\n",
    "dist_deg_cent.append(sum(buldy_RGG_200_rep100_0685_rgg_rand_data['dist_deg_cent']) / alive_cases[1])\n",
    "dist_deg_cent.append(sum(buldy_RGG_200_rep100_0685_rand_rgg_data['dist_deg_cent']) / alive_cases[2])\n",
    "dist_deg_cent.append(sum(buldy_RGG_200_rep100_0685_rand_rand_data['dist_deg_cent']) / alive_cases[3])"
   ]
  },
  {
   "cell_type": "code",
   "execution_count": 50,
   "metadata": {},
   "outputs": [
    {
     "data": {
      "image/png": "[encoded data removed]",
      "text/plain": [
       "<Figure size 432x288 with 1 Axes>"
      ]
     },
     "metadata": {
      "needs_background": "light"
     },
     "output_type": "display_data"
    }
   ],
   "source": [
    "plt.bar(x_val, dist_deg_cent)\n",
    "plt.xticks(x_val, graph_types)\n",
    "plt.title('Distance to degree centre from the attack point')\n",
    "plt.show()"
   ]
  },
  {
   "cell_type": "code",
   "execution_count": 51,
   "metadata": {},
   "outputs": [],
   "source": [
    "dist_bet_cent = []\n",
    "dist_bet_cent.append(statistics.mean(buldy_RGG_200_rep100_0685_rgg_rgg_data['dist_bet_cent']))\n",
    "dist_bet_cent.append(statistics.mean(buldy_RGG_200_rep100_0685_rgg_rand_data['dist_bet_cent']))\n",
    "dist_bet_cent.append(statistics.mean(buldy_RGG_200_rep100_0685_rand_rgg_data['dist_bet_cent']))\n",
    "dist_bet_cent.append(statistics.mean(buldy_RGG_200_rep100_0685_rand_rand_data['dist_bet_cent']))"
   ]
  },
  {
   "cell_type": "code",
   "execution_count": 52,
   "metadata": {},
   "outputs": [
    {
     "data": {
      "image/png": "[encoded data removed]",
      "text/plain": [
       "<Figure size 432x288 with 1 Axes>"
      ]
     },
     "metadata": {
      "needs_background": "light"
     },
     "output_type": "display_data"
    }
   ],
   "source": [
    "plt.bar(x_val, dist_bet_cent)\n",
    "plt.xticks(x_val, graph_types)\n",
    "plt.title('Distance to betweenes centre from the attack point')\n",
    "plt.show()"
   ]
  },
  {
   "cell_type": "code",
   "execution_count": 53,
   "metadata": {},
   "outputs": [],
   "source": [
    "dist_bet_cent = []\n",
    "dist_bet_cent.append(sum(buldy_RGG_200_rep100_0685_rgg_rgg_data['dist_bet_cent']) / alive_cases[0])\n",
    "dist_bet_cent.append(sum(buldy_RGG_200_rep100_0685_rgg_rand_data['dist_bet_cent']) / alive_cases[1])\n",
    "dist_bet_cent.append(sum(buldy_RGG_200_rep100_0685_rand_rgg_data['dist_bet_cent']) / alive_cases[2])\n",
    "dist_bet_cent.append(sum(buldy_RGG_200_rep100_0685_rand_rand_data['dist_bet_cent']) / alive_cases[3])"
   ]
  },
  {
   "cell_type": "code",
   "execution_count": 54,
   "metadata": {},
   "outputs": [
    {
     "data": {
      "image/png": "[encoded data removed]",
      "text/plain": [
       "<Figure size 432x288 with 1 Axes>"
      ]
     },
     "metadata": {
      "needs_background": "light"
     },
     "output_type": "display_data"
    }
   ],
   "source": [
    "plt.bar(x_val, dist_deg_cent)\n",
    "plt.xticks(x_val, graph_types)\n",
    "plt.title('Distance to degree centre from the attack point')\n",
    "plt.show()"
   ]
  },
  {
   "cell_type": "code",
   "execution_count": 55,
   "metadata": {},
   "outputs": [
    {
     "data": {
      "text/plain": [
       "135"
      ]
     },
     "execution_count": 55,
     "metadata": {},
     "output_type": "execute_result"
    }
   ],
   "source": [
    "len(buldy_RGG_200_rep100_0685_rgg_rgg_data.columns)"
   ]
  },
  {
   "cell_type": "code",
   "execution_count": 56,
   "metadata": {},
   "outputs": [
    {
     "ename": "IndentationError",
     "evalue": "expected an indented block (<ipython-input-56-f58baf5b40e4>, line 5)",
     "output_type": "error",
     "traceback": [
      "\u001b[1;36m  File \u001b[1;32m\"<ipython-input-56-f58baf5b40e4>\"\u001b[1;36m, line \u001b[1;32m5\u001b[0m\n\u001b[1;33m    if i == 0:\u001b[0m\n\u001b[1;37m              ^\u001b[0m\n\u001b[1;31mIndentationError\u001b[0m\u001b[1;31m:\u001b[0m expected an indented block\n"
     ]
    }
   ],
   "source": [
    "    for j in range(100):\n",
    "        if buldy_RGG_200_rep100_0685_rgg_rgg_data['step%d_far_dead_node' % index][j] != 0:\n",
    "\n",
    "            \n",
    "    if i == 0:\n",
    "        buldy_RGG_200_rep100_0685_far_dead_node['rgg_rgg'] = [statistics.mean(buldy_RGG_50_rep100_045_rgg_rgg_data['step%d_far_dead_node' % index].values.tolist())]\n",
    "        buldy_RGG_200_rep100_0685_far_dead_node['rgg_rand'] = [statistics.mean(buldy_RGG_50_rep100_045_rgg_rand_data['step%d_far_dead_node' % index].values.tolist())]\n",
    "        buldy_RGG_200_rep100_0685_far_dead_node['rand_rgg'] = [statistics.mean(buldy_RGG_50_rep100_045_rand_rgg_data['step%d_far_dead_node' % index].values.tolist())]\n",
    "        buldy_RGG_200_rep100_0685_far_dead_node['rand_rand'] = [statistics.mean(buldy_RGG_50_rep100_045_rand_rand_data['step%d_far_dead_node' % index].values.tolist())]\n",
    "    else:\n",
    "        "
   ]
  },
  {
   "cell_type": "code",
   "execution_count": 57,
   "metadata": {},
   "outputs": [],
   "source": [
    "buldy_RGG_200_rep100_0685_far_dead_node = {'rgg_rgg': [],\n",
    "                                           'rgg_rand': [],\n",
    "                                           'rand_rgg': [],\n",
    "                                           'rand_rand': []}\n",
    "cum_far_dead_node = {'rgg_rgg': [],\n",
    "                     'rgg_rand': [],\n",
    "                     'rand_rgg': [],\n",
    "                     'rand_rand': []}\n",
    "\n",
    "for index in range(len(buldy_RGG_200_rep100_0685_rgg_rgg_data.columns) - 97):\n",
    "    buldy_RGG_200_rep100_0685_far_dead_node['rgg_rgg'].append(statistics.mean(buldy_RGG_200_rep100_0685_rgg_rgg_data['step%d_far_dead_node' % (index+1)].values.tolist()))\n",
    "    buldy_RGG_200_rep100_0685_far_dead_node['rgg_rand'].append(statistics.mean(buldy_RGG_200_rep100_0685_rgg_rand_data['step%d_far_dead_node' % (index+1)].values.tolist()))\n",
    "    buldy_RGG_200_rep100_0685_far_dead_node['rand_rgg'].append(statistics.mean(buldy_RGG_200_rep100_0685_rand_rgg_data['step%d_far_dead_node' % (index+1)].values.tolist()))\n",
    "    buldy_RGG_200_rep100_0685_far_dead_node['rand_rand'].append(statistics.mean(buldy_RGG_200_rep100_0685_rand_rand_data['step%d_far_dead_node' % (index+1)].values.tolist()))\n",
    "        "
   ]
  },
  {
   "cell_type": "code",
   "execution_count": 58,
   "metadata": {},
   "outputs": [
    {
     "data": {
      "text/plain": [
       "[<matplotlib.lines.Line2D at 0x1f8a4b33100>]"
      ]
     },
     "execution_count": 58,
     "metadata": {},
     "output_type": "execute_result"
    },
    {
     "data": {
      "image/png": "[encoded data removed]",
      "text/plain": [
       "<Figure size 432x288 with 1 Axes>"
      ]
     },
     "metadata": {
      "needs_background": "light"
     },
     "output_type": "display_data"
    }
   ],
   "source": [
    "plt.plot(range(38), buldy_RGG_200_rep100_0685_far_dead_node['rgg_rgg'])\n",
    "plt.plot(range(38), buldy_RGG_200_rep100_0685_far_dead_node['rgg_rand'])\n",
    "plt.plot(range(38), buldy_RGG_200_rep100_0685_far_dead_node['rand_rgg'])\n",
    "plt.plot(range(38), buldy_RGG_200_rep100_0685_far_dead_node['rand_rand'])"
   ]
  },
  {
   "cell_type": "code",
   "execution_count": 59,
   "metadata": {},
   "outputs": [
    {
     "ename": "NameError",
     "evalue": "name 'buldy_RGG_50_rep100_045_rgg_rgg_data' is not defined",
     "output_type": "error",
     "traceback": [
      "\u001b[1;31m---------------------------------------------------------------------------\u001b[0m",
      "\u001b[1;31mNameError\u001b[0m                                 Traceback (most recent call last)",
      "\u001b[1;32m<ipython-input-59-523abe6fe435>\u001b[0m in \u001b[0;36m<module>\u001b[1;34m\u001b[0m\n\u001b[0;32m      4\u001b[0m                      'rand_rand': []}\n\u001b[0;32m      5\u001b[0m \u001b[1;33m\u001b[0m\u001b[0m\n\u001b[1;32m----> 6\u001b[1;33m \u001b[1;32mfor\u001b[0m \u001b[0mindex\u001b[0m\u001b[1;33m,\u001b[0m \u001b[0mrow\u001b[0m \u001b[1;32min\u001b[0m \u001b[0mbuldy_RGG_50_rep100_045_rgg_rgg_data\u001b[0m\u001b[1;33m.\u001b[0m\u001b[0miterrows\u001b[0m\u001b[1;33m(\u001b[0m\u001b[1;33m)\u001b[0m\u001b[1;33m:\u001b[0m\u001b[1;33m\u001b[0m\u001b[1;33m\u001b[0m\u001b[0m\n\u001b[0m\u001b[0;32m      7\u001b[0m     \u001b[0mcur_row\u001b[0m \u001b[1;33m=\u001b[0m \u001b[0mrow\u001b[0m\u001b[1;33m.\u001b[0m\u001b[0mtolist\u001b[0m\u001b[1;33m(\u001b[0m\u001b[1;33m)\u001b[0m\u001b[1;33m\u001b[0m\u001b[1;33m\u001b[0m\u001b[0m\n\u001b[0;32m      8\u001b[0m \u001b[1;33m\u001b[0m\u001b[0m\n",
      "\u001b[1;31mNameError\u001b[0m: name 'buldy_RGG_50_rep100_045_rgg_rgg_data' is not defined"
     ]
    }
   ],
   "source": [
    "cum_far_dead_node = {'rgg_rgg': [],\n",
    "                     'rgg_rand': [],\n",
    "                     'rand_rgg': [],\n",
    "                     'rand_rand': []}\n",
    "\n",
    "for index, row in buldy_RGG_50_rep100_045_rgg_rgg_data.iterrows():\n",
    "    cur_row = row.tolist()\n",
    "    \n",
    "    length = int((len(buldy_RGG_50_rep100_045_rgg_rgg_data.columns) - 21) / 3)\n",
    "    \n",
    "    temp = []\n",
    "    for i in range(length):\n",
    "        if cur_row[(3*i) + 23] != 0:\n",
    "            temp.append(cur_row[(3*i) + 23])\n",
    "        else:\n",
    "            temp.append(temp[i-2])\n",
    "            \n",
    "    cum_far_dead_node['rgg_rgg'].append(temp)\n",
    "            \n",
    "print(cum_far_dead_node['rgg_rgg'])"
   ]
  },
  {
   "cell_type": "code",
   "execution_count": null,
   "metadata": {},
   "outputs": [],
   "source": []
  },
  {
   "cell_type": "code",
   "execution_count": null,
   "metadata": {},
   "outputs": [],
   "source": []
  }
 ],
 "metadata": {
  "kernelspec": {
   "display_name": "Python 3",
   "language": "python",
   "name": "python3"
  },
  "language_info": {
   "codemirror_mode": {
    "name": "ipython",
    "version": 3
   },
   "file_extension": ".py",
   "mimetype": "text/x-python",
   "name": "python",
   "nbconvert_exporter": "python",
   "pygments_lexer": "ipython3",
   "version": "3.8.3"
  }
 },
 "nbformat": 4,
 "nbformat_minor": 4
}
